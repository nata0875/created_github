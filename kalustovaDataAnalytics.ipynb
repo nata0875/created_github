{
  "nbformat": 4,
  "nbformat_minor": 0,
  "metadata": {
    "colab": {
      "provenance": [],
      "toc_visible": true,
      "authorship_tag": "ABX9TyNFsMR0bG5Bm9kJ55DHh/P0",
      "include_colab_link": true
    },
    "kernelspec": {
      "name": "python3",
      "display_name": "Python 3"
    },
    "language_info": {
      "name": "python"
    }
  },
  "cells": [
    {
      "cell_type": "markdown",
      "metadata": {
        "id": "view-in-github",
        "colab_type": "text"
      },
      "source": [
        "<a href=\"https://colab.research.google.com/github/nata0875/created_github/blob/main/kalustovaDataAnalytics.ipynb\" target=\"_parent\"><img src=\"https://colab.research.google.com/assets/colab-badge.svg\" alt=\"Open In Colab\"/></a>"
      ]
    },
    {
      "cell_type": "markdown",
      "source": [
        "**Books recommendation system.**\n",
        "\n",
        "Datasets were taken from Kaggle. Online data for books from Amazon along with user ratings and users who bought them. 3 files csv.  Ratings are expressed on a scale from 1-10 (higher values denoting higher appreciation).\n",
        "https://www.kaggle.com/datasets/saurabhbagchi/books-dataset/download?datasetVersionNumber=1"
      ],
      "metadata": {
        "id": "x-DZQVqCcbnD"
      }
    },
    {
      "cell_type": "code",
      "execution_count": 1,
      "metadata": {
        "id": "ENDjCSUWJ2NO"
      },
      "outputs": [],
      "source": [
        "import numpy as np\n",
        "import pandas as pd\n",
        "import matplotlib.pyplot as plt\n",
        "import seaborn as sns\n",
        "from matplotlib_venn import venn2"
      ]
    },
    {
      "cell_type": "code",
      "source": [
        "books_raw = pd.read_csv(\"books.csv\", sep=\";\", on_bad_lines = 'skip', encoding='latin-1')\n",
        "ratings = pd.read_csv(\"ratings.csv\", sep=\";\", on_bad_lines = 'skip', encoding='latin-1')\n",
        "users = pd.read_csv(\"users.csv\", sep=\";\", on_bad_lines = 'skip', encoding='latin-1')"
      ],
      "metadata": {
        "colab": {
          "base_uri": "https://localhost:8080/"
        },
        "id": "izPzpU2tLD4j",
        "outputId": "6d6fcd1f-0e72-44d6-b391-37e7d059c6b2"
      },
      "execution_count": 2,
      "outputs": [
        {
          "output_type": "stream",
          "name": "stderr",
          "text": [
            "<ipython-input-2-19c1adbe25f4>:1: DtypeWarning: Columns (3) have mixed types. Specify dtype option on import or set low_memory=False.\n",
            "  books_raw = pd.read_csv(\"books.csv\", sep=\";\", on_bad_lines = 'skip', encoding='latin-1')\n"
          ]
        }
      ]
    },
    {
      "cell_type": "code",
      "source": [
        "# Understand the Schema and purpose\n",
        "# Look at the size and format of the Data\n",
        "print(books_raw.shape)\n",
        "books_raw.head()\n"
      ],
      "metadata": {
        "colab": {
          "base_uri": "https://localhost:8080/",
          "height": 452
        },
        "id": "RtSGmaBoLtBm",
        "outputId": "7e2ee7c1-c762-408e-ebc3-5ff9df89fb6b"
      },
      "execution_count": 3,
      "outputs": [
        {
          "output_type": "stream",
          "name": "stdout",
          "text": [
            "(271360, 8)\n"
          ]
        },
        {
          "output_type": "execute_result",
          "data": {
            "text/plain": [
              "         ISBN                                         Book-Title  \\\n",
              "0  0195153448                                Classical Mythology   \n",
              "1  0002005018                                       Clara Callan   \n",
              "2  0060973129                               Decision in Normandy   \n",
              "3  0374157065  Flu: The Story of the Great Influenza Pandemic...   \n",
              "4  0393045218                             The Mummies of Urumchi   \n",
              "\n",
              "            Book-Author Year-Of-Publication                   Publisher  \\\n",
              "0    Mark P. O. Morford                2002     Oxford University Press   \n",
              "1  Richard Bruce Wright                2001       HarperFlamingo Canada   \n",
              "2          Carlo D'Este                1991             HarperPerennial   \n",
              "3      Gina Bari Kolata                1999        Farrar Straus Giroux   \n",
              "4       E. J. W. Barber                1999  W. W. Norton &amp; Company   \n",
              "\n",
              "                                         Image-URL-S  \\\n",
              "0  http://images.amazon.com/images/P/0195153448.0...   \n",
              "1  http://images.amazon.com/images/P/0002005018.0...   \n",
              "2  http://images.amazon.com/images/P/0060973129.0...   \n",
              "3  http://images.amazon.com/images/P/0374157065.0...   \n",
              "4  http://images.amazon.com/images/P/0393045218.0...   \n",
              "\n",
              "                                         Image-URL-M  \\\n",
              "0  http://images.amazon.com/images/P/0195153448.0...   \n",
              "1  http://images.amazon.com/images/P/0002005018.0...   \n",
              "2  http://images.amazon.com/images/P/0060973129.0...   \n",
              "3  http://images.amazon.com/images/P/0374157065.0...   \n",
              "4  http://images.amazon.com/images/P/0393045218.0...   \n",
              "\n",
              "                                         Image-URL-L  \n",
              "0  http://images.amazon.com/images/P/0195153448.0...  \n",
              "1  http://images.amazon.com/images/P/0002005018.0...  \n",
              "2  http://images.amazon.com/images/P/0060973129.0...  \n",
              "3  http://images.amazon.com/images/P/0374157065.0...  \n",
              "4  http://images.amazon.com/images/P/0393045218.0...  "
            ],
            "text/html": [
              "\n",
              "  <div id=\"df-db98cb96-6860-4539-b5a6-6d2668e8d3b4\" class=\"colab-df-container\">\n",
              "    <div>\n",
              "<style scoped>\n",
              "    .dataframe tbody tr th:only-of-type {\n",
              "        vertical-align: middle;\n",
              "    }\n",
              "\n",
              "    .dataframe tbody tr th {\n",
              "        vertical-align: top;\n",
              "    }\n",
              "\n",
              "    .dataframe thead th {\n",
              "        text-align: right;\n",
              "    }\n",
              "</style>\n",
              "<table border=\"1\" class=\"dataframe\">\n",
              "  <thead>\n",
              "    <tr style=\"text-align: right;\">\n",
              "      <th></th>\n",
              "      <th>ISBN</th>\n",
              "      <th>Book-Title</th>\n",
              "      <th>Book-Author</th>\n",
              "      <th>Year-Of-Publication</th>\n",
              "      <th>Publisher</th>\n",
              "      <th>Image-URL-S</th>\n",
              "      <th>Image-URL-M</th>\n",
              "      <th>Image-URL-L</th>\n",
              "    </tr>\n",
              "  </thead>\n",
              "  <tbody>\n",
              "    <tr>\n",
              "      <th>0</th>\n",
              "      <td>0195153448</td>\n",
              "      <td>Classical Mythology</td>\n",
              "      <td>Mark P. O. Morford</td>\n",
              "      <td>2002</td>\n",
              "      <td>Oxford University Press</td>\n",
              "      <td>http://images.amazon.com/images/P/0195153448.0...</td>\n",
              "      <td>http://images.amazon.com/images/P/0195153448.0...</td>\n",
              "      <td>http://images.amazon.com/images/P/0195153448.0...</td>\n",
              "    </tr>\n",
              "    <tr>\n",
              "      <th>1</th>\n",
              "      <td>0002005018</td>\n",
              "      <td>Clara Callan</td>\n",
              "      <td>Richard Bruce Wright</td>\n",
              "      <td>2001</td>\n",
              "      <td>HarperFlamingo Canada</td>\n",
              "      <td>http://images.amazon.com/images/P/0002005018.0...</td>\n",
              "      <td>http://images.amazon.com/images/P/0002005018.0...</td>\n",
              "      <td>http://images.amazon.com/images/P/0002005018.0...</td>\n",
              "    </tr>\n",
              "    <tr>\n",
              "      <th>2</th>\n",
              "      <td>0060973129</td>\n",
              "      <td>Decision in Normandy</td>\n",
              "      <td>Carlo D'Este</td>\n",
              "      <td>1991</td>\n",
              "      <td>HarperPerennial</td>\n",
              "      <td>http://images.amazon.com/images/P/0060973129.0...</td>\n",
              "      <td>http://images.amazon.com/images/P/0060973129.0...</td>\n",
              "      <td>http://images.amazon.com/images/P/0060973129.0...</td>\n",
              "    </tr>\n",
              "    <tr>\n",
              "      <th>3</th>\n",
              "      <td>0374157065</td>\n",
              "      <td>Flu: The Story of the Great Influenza Pandemic...</td>\n",
              "      <td>Gina Bari Kolata</td>\n",
              "      <td>1999</td>\n",
              "      <td>Farrar Straus Giroux</td>\n",
              "      <td>http://images.amazon.com/images/P/0374157065.0...</td>\n",
              "      <td>http://images.amazon.com/images/P/0374157065.0...</td>\n",
              "      <td>http://images.amazon.com/images/P/0374157065.0...</td>\n",
              "    </tr>\n",
              "    <tr>\n",
              "      <th>4</th>\n",
              "      <td>0393045218</td>\n",
              "      <td>The Mummies of Urumchi</td>\n",
              "      <td>E. J. W. Barber</td>\n",
              "      <td>1999</td>\n",
              "      <td>W. W. Norton &amp;amp; Company</td>\n",
              "      <td>http://images.amazon.com/images/P/0393045218.0...</td>\n",
              "      <td>http://images.amazon.com/images/P/0393045218.0...</td>\n",
              "      <td>http://images.amazon.com/images/P/0393045218.0...</td>\n",
              "    </tr>\n",
              "  </tbody>\n",
              "</table>\n",
              "</div>\n",
              "    <div class=\"colab-df-buttons\">\n",
              "\n",
              "  <div class=\"colab-df-container\">\n",
              "    <button class=\"colab-df-convert\" onclick=\"convertToInteractive('df-db98cb96-6860-4539-b5a6-6d2668e8d3b4')\"\n",
              "            title=\"Convert this dataframe to an interactive table.\"\n",
              "            style=\"display:none;\">\n",
              "\n",
              "  <svg xmlns=\"http://www.w3.org/2000/svg\" height=\"24px\" viewBox=\"0 -960 960 960\">\n",
              "    <path d=\"M120-120v-720h720v720H120Zm60-500h600v-160H180v160Zm220 220h160v-160H400v160Zm0 220h160v-160H400v160ZM180-400h160v-160H180v160Zm440 0h160v-160H620v160ZM180-180h160v-160H180v160Zm440 0h160v-160H620v160Z\"/>\n",
              "  </svg>\n",
              "    </button>\n",
              "\n",
              "  <style>\n",
              "    .colab-df-container {\n",
              "      display:flex;\n",
              "      gap: 12px;\n",
              "    }\n",
              "\n",
              "    .colab-df-convert {\n",
              "      background-color: #E8F0FE;\n",
              "      border: none;\n",
              "      border-radius: 50%;\n",
              "      cursor: pointer;\n",
              "      display: none;\n",
              "      fill: #1967D2;\n",
              "      height: 32px;\n",
              "      padding: 0 0 0 0;\n",
              "      width: 32px;\n",
              "    }\n",
              "\n",
              "    .colab-df-convert:hover {\n",
              "      background-color: #E2EBFA;\n",
              "      box-shadow: 0px 1px 2px rgba(60, 64, 67, 0.3), 0px 1px 3px 1px rgba(60, 64, 67, 0.15);\n",
              "      fill: #174EA6;\n",
              "    }\n",
              "\n",
              "    .colab-df-buttons div {\n",
              "      margin-bottom: 4px;\n",
              "    }\n",
              "\n",
              "    [theme=dark] .colab-df-convert {\n",
              "      background-color: #3B4455;\n",
              "      fill: #D2E3FC;\n",
              "    }\n",
              "\n",
              "    [theme=dark] .colab-df-convert:hover {\n",
              "      background-color: #434B5C;\n",
              "      box-shadow: 0px 1px 3px 1px rgba(0, 0, 0, 0.15);\n",
              "      filter: drop-shadow(0px 1px 2px rgba(0, 0, 0, 0.3));\n",
              "      fill: #FFFFFF;\n",
              "    }\n",
              "  </style>\n",
              "\n",
              "    <script>\n",
              "      const buttonEl =\n",
              "        document.querySelector('#df-db98cb96-6860-4539-b5a6-6d2668e8d3b4 button.colab-df-convert');\n",
              "      buttonEl.style.display =\n",
              "        google.colab.kernel.accessAllowed ? 'block' : 'none';\n",
              "\n",
              "      async function convertToInteractive(key) {\n",
              "        const element = document.querySelector('#df-db98cb96-6860-4539-b5a6-6d2668e8d3b4');\n",
              "        const dataTable =\n",
              "          await google.colab.kernel.invokeFunction('convertToInteractive',\n",
              "                                                    [key], {});\n",
              "        if (!dataTable) return;\n",
              "\n",
              "        const docLinkHtml = 'Like what you see? Visit the ' +\n",
              "          '<a target=\"_blank\" href=https://colab.research.google.com/notebooks/data_table.ipynb>data table notebook</a>'\n",
              "          + ' to learn more about interactive tables.';\n",
              "        element.innerHTML = '';\n",
              "        dataTable['output_type'] = 'display_data';\n",
              "        await google.colab.output.renderOutput(dataTable, element);\n",
              "        const docLink = document.createElement('div');\n",
              "        docLink.innerHTML = docLinkHtml;\n",
              "        element.appendChild(docLink);\n",
              "      }\n",
              "    </script>\n",
              "  </div>\n",
              "\n",
              "\n",
              "<div id=\"df-8289c71d-de15-40c6-a032-0372698b4bd3\">\n",
              "  <button class=\"colab-df-quickchart\" onclick=\"quickchart('df-8289c71d-de15-40c6-a032-0372698b4bd3')\"\n",
              "            title=\"Suggest charts\"\n",
              "            style=\"display:none;\">\n",
              "\n",
              "<svg xmlns=\"http://www.w3.org/2000/svg\" height=\"24px\"viewBox=\"0 0 24 24\"\n",
              "     width=\"24px\">\n",
              "    <g>\n",
              "        <path d=\"M19 3H5c-1.1 0-2 .9-2 2v14c0 1.1.9 2 2 2h14c1.1 0 2-.9 2-2V5c0-1.1-.9-2-2-2zM9 17H7v-7h2v7zm4 0h-2V7h2v10zm4 0h-2v-4h2v4z\"/>\n",
              "    </g>\n",
              "</svg>\n",
              "  </button>\n",
              "\n",
              "<style>\n",
              "  .colab-df-quickchart {\n",
              "      --bg-color: #E8F0FE;\n",
              "      --fill-color: #1967D2;\n",
              "      --hover-bg-color: #E2EBFA;\n",
              "      --hover-fill-color: #174EA6;\n",
              "      --disabled-fill-color: #AAA;\n",
              "      --disabled-bg-color: #DDD;\n",
              "  }\n",
              "\n",
              "  [theme=dark] .colab-df-quickchart {\n",
              "      --bg-color: #3B4455;\n",
              "      --fill-color: #D2E3FC;\n",
              "      --hover-bg-color: #434B5C;\n",
              "      --hover-fill-color: #FFFFFF;\n",
              "      --disabled-bg-color: #3B4455;\n",
              "      --disabled-fill-color: #666;\n",
              "  }\n",
              "\n",
              "  .colab-df-quickchart {\n",
              "    background-color: var(--bg-color);\n",
              "    border: none;\n",
              "    border-radius: 50%;\n",
              "    cursor: pointer;\n",
              "    display: none;\n",
              "    fill: var(--fill-color);\n",
              "    height: 32px;\n",
              "    padding: 0;\n",
              "    width: 32px;\n",
              "  }\n",
              "\n",
              "  .colab-df-quickchart:hover {\n",
              "    background-color: var(--hover-bg-color);\n",
              "    box-shadow: 0 1px 2px rgba(60, 64, 67, 0.3), 0 1px 3px 1px rgba(60, 64, 67, 0.15);\n",
              "    fill: var(--button-hover-fill-color);\n",
              "  }\n",
              "\n",
              "  .colab-df-quickchart-complete:disabled,\n",
              "  .colab-df-quickchart-complete:disabled:hover {\n",
              "    background-color: var(--disabled-bg-color);\n",
              "    fill: var(--disabled-fill-color);\n",
              "    box-shadow: none;\n",
              "  }\n",
              "\n",
              "  .colab-df-spinner {\n",
              "    border: 2px solid var(--fill-color);\n",
              "    border-color: transparent;\n",
              "    border-bottom-color: var(--fill-color);\n",
              "    animation:\n",
              "      spin 1s steps(1) infinite;\n",
              "  }\n",
              "\n",
              "  @keyframes spin {\n",
              "    0% {\n",
              "      border-color: transparent;\n",
              "      border-bottom-color: var(--fill-color);\n",
              "      border-left-color: var(--fill-color);\n",
              "    }\n",
              "    20% {\n",
              "      border-color: transparent;\n",
              "      border-left-color: var(--fill-color);\n",
              "      border-top-color: var(--fill-color);\n",
              "    }\n",
              "    30% {\n",
              "      border-color: transparent;\n",
              "      border-left-color: var(--fill-color);\n",
              "      border-top-color: var(--fill-color);\n",
              "      border-right-color: var(--fill-color);\n",
              "    }\n",
              "    40% {\n",
              "      border-color: transparent;\n",
              "      border-right-color: var(--fill-color);\n",
              "      border-top-color: var(--fill-color);\n",
              "    }\n",
              "    60% {\n",
              "      border-color: transparent;\n",
              "      border-right-color: var(--fill-color);\n",
              "    }\n",
              "    80% {\n",
              "      border-color: transparent;\n",
              "      border-right-color: var(--fill-color);\n",
              "      border-bottom-color: var(--fill-color);\n",
              "    }\n",
              "    90% {\n",
              "      border-color: transparent;\n",
              "      border-bottom-color: var(--fill-color);\n",
              "    }\n",
              "  }\n",
              "</style>\n",
              "\n",
              "  <script>\n",
              "    async function quickchart(key) {\n",
              "      const quickchartButtonEl =\n",
              "        document.querySelector('#' + key + ' button');\n",
              "      quickchartButtonEl.disabled = true;  // To prevent multiple clicks.\n",
              "      quickchartButtonEl.classList.add('colab-df-spinner');\n",
              "      try {\n",
              "        const charts = await google.colab.kernel.invokeFunction(\n",
              "            'suggestCharts', [key], {});\n",
              "      } catch (error) {\n",
              "        console.error('Error during call to suggestCharts:', error);\n",
              "      }\n",
              "      quickchartButtonEl.classList.remove('colab-df-spinner');\n",
              "      quickchartButtonEl.classList.add('colab-df-quickchart-complete');\n",
              "    }\n",
              "    (() => {\n",
              "      let quickchartButtonEl =\n",
              "        document.querySelector('#df-8289c71d-de15-40c6-a032-0372698b4bd3 button');\n",
              "      quickchartButtonEl.style.display =\n",
              "        google.colab.kernel.accessAllowed ? 'block' : 'none';\n",
              "    })();\n",
              "  </script>\n",
              "</div>\n",
              "    </div>\n",
              "  </div>\n"
            ]
          },
          "metadata": {},
          "execution_count": 3
        }
      ]
    },
    {
      "cell_type": "code",
      "source": [
        "books_raw.dtypes\n",
        "books = books_raw.drop(['Image-URL-S','Image-URL-M','Image-URL-L'], axis=1)\n",
        "books.rename(columns={'Book-Title': 'Title','Book-Author': 'Author','Year-Of-Publication': 'PublYear'}, inplace=True)\n",
        "books.head()\n"
      ],
      "metadata": {
        "colab": {
          "base_uri": "https://localhost:8080/",
          "height": 206
        },
        "id": "wMG_ga3JSr-z",
        "outputId": "e01b3c52-8653-43ac-8f71-b39c854511bd"
      },
      "execution_count": 4,
      "outputs": [
        {
          "output_type": "execute_result",
          "data": {
            "text/plain": [
              "         ISBN                                              Title  \\\n",
              "0  0195153448                                Classical Mythology   \n",
              "1  0002005018                                       Clara Callan   \n",
              "2  0060973129                               Decision in Normandy   \n",
              "3  0374157065  Flu: The Story of the Great Influenza Pandemic...   \n",
              "4  0393045218                             The Mummies of Urumchi   \n",
              "\n",
              "                 Author PublYear                   Publisher  \n",
              "0    Mark P. O. Morford     2002     Oxford University Press  \n",
              "1  Richard Bruce Wright     2001       HarperFlamingo Canada  \n",
              "2          Carlo D'Este     1991             HarperPerennial  \n",
              "3      Gina Bari Kolata     1999        Farrar Straus Giroux  \n",
              "4       E. J. W. Barber     1999  W. W. Norton &amp; Company  "
            ],
            "text/html": [
              "\n",
              "  <div id=\"df-6e3e9f13-6244-4bdb-9853-0b055cd5ffa5\" class=\"colab-df-container\">\n",
              "    <div>\n",
              "<style scoped>\n",
              "    .dataframe tbody tr th:only-of-type {\n",
              "        vertical-align: middle;\n",
              "    }\n",
              "\n",
              "    .dataframe tbody tr th {\n",
              "        vertical-align: top;\n",
              "    }\n",
              "\n",
              "    .dataframe thead th {\n",
              "        text-align: right;\n",
              "    }\n",
              "</style>\n",
              "<table border=\"1\" class=\"dataframe\">\n",
              "  <thead>\n",
              "    <tr style=\"text-align: right;\">\n",
              "      <th></th>\n",
              "      <th>ISBN</th>\n",
              "      <th>Title</th>\n",
              "      <th>Author</th>\n",
              "      <th>PublYear</th>\n",
              "      <th>Publisher</th>\n",
              "    </tr>\n",
              "  </thead>\n",
              "  <tbody>\n",
              "    <tr>\n",
              "      <th>0</th>\n",
              "      <td>0195153448</td>\n",
              "      <td>Classical Mythology</td>\n",
              "      <td>Mark P. O. Morford</td>\n",
              "      <td>2002</td>\n",
              "      <td>Oxford University Press</td>\n",
              "    </tr>\n",
              "    <tr>\n",
              "      <th>1</th>\n",
              "      <td>0002005018</td>\n",
              "      <td>Clara Callan</td>\n",
              "      <td>Richard Bruce Wright</td>\n",
              "      <td>2001</td>\n",
              "      <td>HarperFlamingo Canada</td>\n",
              "    </tr>\n",
              "    <tr>\n",
              "      <th>2</th>\n",
              "      <td>0060973129</td>\n",
              "      <td>Decision in Normandy</td>\n",
              "      <td>Carlo D'Este</td>\n",
              "      <td>1991</td>\n",
              "      <td>HarperPerennial</td>\n",
              "    </tr>\n",
              "    <tr>\n",
              "      <th>3</th>\n",
              "      <td>0374157065</td>\n",
              "      <td>Flu: The Story of the Great Influenza Pandemic...</td>\n",
              "      <td>Gina Bari Kolata</td>\n",
              "      <td>1999</td>\n",
              "      <td>Farrar Straus Giroux</td>\n",
              "    </tr>\n",
              "    <tr>\n",
              "      <th>4</th>\n",
              "      <td>0393045218</td>\n",
              "      <td>The Mummies of Urumchi</td>\n",
              "      <td>E. J. W. Barber</td>\n",
              "      <td>1999</td>\n",
              "      <td>W. W. Norton &amp;amp; Company</td>\n",
              "    </tr>\n",
              "  </tbody>\n",
              "</table>\n",
              "</div>\n",
              "    <div class=\"colab-df-buttons\">\n",
              "\n",
              "  <div class=\"colab-df-container\">\n",
              "    <button class=\"colab-df-convert\" onclick=\"convertToInteractive('df-6e3e9f13-6244-4bdb-9853-0b055cd5ffa5')\"\n",
              "            title=\"Convert this dataframe to an interactive table.\"\n",
              "            style=\"display:none;\">\n",
              "\n",
              "  <svg xmlns=\"http://www.w3.org/2000/svg\" height=\"24px\" viewBox=\"0 -960 960 960\">\n",
              "    <path d=\"M120-120v-720h720v720H120Zm60-500h600v-160H180v160Zm220 220h160v-160H400v160Zm0 220h160v-160H400v160ZM180-400h160v-160H180v160Zm440 0h160v-160H620v160ZM180-180h160v-160H180v160Zm440 0h160v-160H620v160Z\"/>\n",
              "  </svg>\n",
              "    </button>\n",
              "\n",
              "  <style>\n",
              "    .colab-df-container {\n",
              "      display:flex;\n",
              "      gap: 12px;\n",
              "    }\n",
              "\n",
              "    .colab-df-convert {\n",
              "      background-color: #E8F0FE;\n",
              "      border: none;\n",
              "      border-radius: 50%;\n",
              "      cursor: pointer;\n",
              "      display: none;\n",
              "      fill: #1967D2;\n",
              "      height: 32px;\n",
              "      padding: 0 0 0 0;\n",
              "      width: 32px;\n",
              "    }\n",
              "\n",
              "    .colab-df-convert:hover {\n",
              "      background-color: #E2EBFA;\n",
              "      box-shadow: 0px 1px 2px rgba(60, 64, 67, 0.3), 0px 1px 3px 1px rgba(60, 64, 67, 0.15);\n",
              "      fill: #174EA6;\n",
              "    }\n",
              "\n",
              "    .colab-df-buttons div {\n",
              "      margin-bottom: 4px;\n",
              "    }\n",
              "\n",
              "    [theme=dark] .colab-df-convert {\n",
              "      background-color: #3B4455;\n",
              "      fill: #D2E3FC;\n",
              "    }\n",
              "\n",
              "    [theme=dark] .colab-df-convert:hover {\n",
              "      background-color: #434B5C;\n",
              "      box-shadow: 0px 1px 3px 1px rgba(0, 0, 0, 0.15);\n",
              "      filter: drop-shadow(0px 1px 2px rgba(0, 0, 0, 0.3));\n",
              "      fill: #FFFFFF;\n",
              "    }\n",
              "  </style>\n",
              "\n",
              "    <script>\n",
              "      const buttonEl =\n",
              "        document.querySelector('#df-6e3e9f13-6244-4bdb-9853-0b055cd5ffa5 button.colab-df-convert');\n",
              "      buttonEl.style.display =\n",
              "        google.colab.kernel.accessAllowed ? 'block' : 'none';\n",
              "\n",
              "      async function convertToInteractive(key) {\n",
              "        const element = document.querySelector('#df-6e3e9f13-6244-4bdb-9853-0b055cd5ffa5');\n",
              "        const dataTable =\n",
              "          await google.colab.kernel.invokeFunction('convertToInteractive',\n",
              "                                                    [key], {});\n",
              "        if (!dataTable) return;\n",
              "\n",
              "        const docLinkHtml = 'Like what you see? Visit the ' +\n",
              "          '<a target=\"_blank\" href=https://colab.research.google.com/notebooks/data_table.ipynb>data table notebook</a>'\n",
              "          + ' to learn more about interactive tables.';\n",
              "        element.innerHTML = '';\n",
              "        dataTable['output_type'] = 'display_data';\n",
              "        await google.colab.output.renderOutput(dataTable, element);\n",
              "        const docLink = document.createElement('div');\n",
              "        docLink.innerHTML = docLinkHtml;\n",
              "        element.appendChild(docLink);\n",
              "      }\n",
              "    </script>\n",
              "  </div>\n",
              "\n",
              "\n",
              "<div id=\"df-2ed42042-6470-49ea-9dd0-2db645a4bb8c\">\n",
              "  <button class=\"colab-df-quickchart\" onclick=\"quickchart('df-2ed42042-6470-49ea-9dd0-2db645a4bb8c')\"\n",
              "            title=\"Suggest charts\"\n",
              "            style=\"display:none;\">\n",
              "\n",
              "<svg xmlns=\"http://www.w3.org/2000/svg\" height=\"24px\"viewBox=\"0 0 24 24\"\n",
              "     width=\"24px\">\n",
              "    <g>\n",
              "        <path d=\"M19 3H5c-1.1 0-2 .9-2 2v14c0 1.1.9 2 2 2h14c1.1 0 2-.9 2-2V5c0-1.1-.9-2-2-2zM9 17H7v-7h2v7zm4 0h-2V7h2v10zm4 0h-2v-4h2v4z\"/>\n",
              "    </g>\n",
              "</svg>\n",
              "  </button>\n",
              "\n",
              "<style>\n",
              "  .colab-df-quickchart {\n",
              "      --bg-color: #E8F0FE;\n",
              "      --fill-color: #1967D2;\n",
              "      --hover-bg-color: #E2EBFA;\n",
              "      --hover-fill-color: #174EA6;\n",
              "      --disabled-fill-color: #AAA;\n",
              "      --disabled-bg-color: #DDD;\n",
              "  }\n",
              "\n",
              "  [theme=dark] .colab-df-quickchart {\n",
              "      --bg-color: #3B4455;\n",
              "      --fill-color: #D2E3FC;\n",
              "      --hover-bg-color: #434B5C;\n",
              "      --hover-fill-color: #FFFFFF;\n",
              "      --disabled-bg-color: #3B4455;\n",
              "      --disabled-fill-color: #666;\n",
              "  }\n",
              "\n",
              "  .colab-df-quickchart {\n",
              "    background-color: var(--bg-color);\n",
              "    border: none;\n",
              "    border-radius: 50%;\n",
              "    cursor: pointer;\n",
              "    display: none;\n",
              "    fill: var(--fill-color);\n",
              "    height: 32px;\n",
              "    padding: 0;\n",
              "    width: 32px;\n",
              "  }\n",
              "\n",
              "  .colab-df-quickchart:hover {\n",
              "    background-color: var(--hover-bg-color);\n",
              "    box-shadow: 0 1px 2px rgba(60, 64, 67, 0.3), 0 1px 3px 1px rgba(60, 64, 67, 0.15);\n",
              "    fill: var(--button-hover-fill-color);\n",
              "  }\n",
              "\n",
              "  .colab-df-quickchart-complete:disabled,\n",
              "  .colab-df-quickchart-complete:disabled:hover {\n",
              "    background-color: var(--disabled-bg-color);\n",
              "    fill: var(--disabled-fill-color);\n",
              "    box-shadow: none;\n",
              "  }\n",
              "\n",
              "  .colab-df-spinner {\n",
              "    border: 2px solid var(--fill-color);\n",
              "    border-color: transparent;\n",
              "    border-bottom-color: var(--fill-color);\n",
              "    animation:\n",
              "      spin 1s steps(1) infinite;\n",
              "  }\n",
              "\n",
              "  @keyframes spin {\n",
              "    0% {\n",
              "      border-color: transparent;\n",
              "      border-bottom-color: var(--fill-color);\n",
              "      border-left-color: var(--fill-color);\n",
              "    }\n",
              "    20% {\n",
              "      border-color: transparent;\n",
              "      border-left-color: var(--fill-color);\n",
              "      border-top-color: var(--fill-color);\n",
              "    }\n",
              "    30% {\n",
              "      border-color: transparent;\n",
              "      border-left-color: var(--fill-color);\n",
              "      border-top-color: var(--fill-color);\n",
              "      border-right-color: var(--fill-color);\n",
              "    }\n",
              "    40% {\n",
              "      border-color: transparent;\n",
              "      border-right-color: var(--fill-color);\n",
              "      border-top-color: var(--fill-color);\n",
              "    }\n",
              "    60% {\n",
              "      border-color: transparent;\n",
              "      border-right-color: var(--fill-color);\n",
              "    }\n",
              "    80% {\n",
              "      border-color: transparent;\n",
              "      border-right-color: var(--fill-color);\n",
              "      border-bottom-color: var(--fill-color);\n",
              "    }\n",
              "    90% {\n",
              "      border-color: transparent;\n",
              "      border-bottom-color: var(--fill-color);\n",
              "    }\n",
              "  }\n",
              "</style>\n",
              "\n",
              "  <script>\n",
              "    async function quickchart(key) {\n",
              "      const quickchartButtonEl =\n",
              "        document.querySelector('#' + key + ' button');\n",
              "      quickchartButtonEl.disabled = true;  // To prevent multiple clicks.\n",
              "      quickchartButtonEl.classList.add('colab-df-spinner');\n",
              "      try {\n",
              "        const charts = await google.colab.kernel.invokeFunction(\n",
              "            'suggestCharts', [key], {});\n",
              "      } catch (error) {\n",
              "        console.error('Error during call to suggestCharts:', error);\n",
              "      }\n",
              "      quickchartButtonEl.classList.remove('colab-df-spinner');\n",
              "      quickchartButtonEl.classList.add('colab-df-quickchart-complete');\n",
              "    }\n",
              "    (() => {\n",
              "      let quickchartButtonEl =\n",
              "        document.querySelector('#df-2ed42042-6470-49ea-9dd0-2db645a4bb8c button');\n",
              "      quickchartButtonEl.style.display =\n",
              "        google.colab.kernel.accessAllowed ? 'block' : 'none';\n",
              "    })();\n",
              "  </script>\n",
              "</div>\n",
              "    </div>\n",
              "  </div>\n"
            ]
          },
          "metadata": {},
          "execution_count": 4
        }
      ]
    },
    {
      "cell_type": "code",
      "source": [
        "print(ratings.shape)\n",
        "ratings.rename(columns={'Book-Rating': 'Rating','User-ID': 'UserID'}, inplace=True)\n",
        "ratings.head()"
      ],
      "metadata": {
        "colab": {
          "base_uri": "https://localhost:8080/",
          "height": 224
        },
        "id": "wvtlc7WgL1zN",
        "outputId": "53de620a-8f8c-4ce5-8b3c-6f6f4280dcf9"
      },
      "execution_count": 5,
      "outputs": [
        {
          "output_type": "stream",
          "name": "stdout",
          "text": [
            "(1149780, 3)\n"
          ]
        },
        {
          "output_type": "execute_result",
          "data": {
            "text/plain": [
              "   UserID        ISBN  Rating\n",
              "0  276725  034545104X       0\n",
              "1  276726  0155061224       5\n",
              "2  276727  0446520802       0\n",
              "3  276729  052165615X       3\n",
              "4  276729  0521795028       6"
            ],
            "text/html": [
              "\n",
              "  <div id=\"df-3cb8884c-6e0e-4b9f-9287-4ff664761970\" class=\"colab-df-container\">\n",
              "    <div>\n",
              "<style scoped>\n",
              "    .dataframe tbody tr th:only-of-type {\n",
              "        vertical-align: middle;\n",
              "    }\n",
              "\n",
              "    .dataframe tbody tr th {\n",
              "        vertical-align: top;\n",
              "    }\n",
              "\n",
              "    .dataframe thead th {\n",
              "        text-align: right;\n",
              "    }\n",
              "</style>\n",
              "<table border=\"1\" class=\"dataframe\">\n",
              "  <thead>\n",
              "    <tr style=\"text-align: right;\">\n",
              "      <th></th>\n",
              "      <th>UserID</th>\n",
              "      <th>ISBN</th>\n",
              "      <th>Rating</th>\n",
              "    </tr>\n",
              "  </thead>\n",
              "  <tbody>\n",
              "    <tr>\n",
              "      <th>0</th>\n",
              "      <td>276725</td>\n",
              "      <td>034545104X</td>\n",
              "      <td>0</td>\n",
              "    </tr>\n",
              "    <tr>\n",
              "      <th>1</th>\n",
              "      <td>276726</td>\n",
              "      <td>0155061224</td>\n",
              "      <td>5</td>\n",
              "    </tr>\n",
              "    <tr>\n",
              "      <th>2</th>\n",
              "      <td>276727</td>\n",
              "      <td>0446520802</td>\n",
              "      <td>0</td>\n",
              "    </tr>\n",
              "    <tr>\n",
              "      <th>3</th>\n",
              "      <td>276729</td>\n",
              "      <td>052165615X</td>\n",
              "      <td>3</td>\n",
              "    </tr>\n",
              "    <tr>\n",
              "      <th>4</th>\n",
              "      <td>276729</td>\n",
              "      <td>0521795028</td>\n",
              "      <td>6</td>\n",
              "    </tr>\n",
              "  </tbody>\n",
              "</table>\n",
              "</div>\n",
              "    <div class=\"colab-df-buttons\">\n",
              "\n",
              "  <div class=\"colab-df-container\">\n",
              "    <button class=\"colab-df-convert\" onclick=\"convertToInteractive('df-3cb8884c-6e0e-4b9f-9287-4ff664761970')\"\n",
              "            title=\"Convert this dataframe to an interactive table.\"\n",
              "            style=\"display:none;\">\n",
              "\n",
              "  <svg xmlns=\"http://www.w3.org/2000/svg\" height=\"24px\" viewBox=\"0 -960 960 960\">\n",
              "    <path d=\"M120-120v-720h720v720H120Zm60-500h600v-160H180v160Zm220 220h160v-160H400v160Zm0 220h160v-160H400v160ZM180-400h160v-160H180v160Zm440 0h160v-160H620v160ZM180-180h160v-160H180v160Zm440 0h160v-160H620v160Z\"/>\n",
              "  </svg>\n",
              "    </button>\n",
              "\n",
              "  <style>\n",
              "    .colab-df-container {\n",
              "      display:flex;\n",
              "      gap: 12px;\n",
              "    }\n",
              "\n",
              "    .colab-df-convert {\n",
              "      background-color: #E8F0FE;\n",
              "      border: none;\n",
              "      border-radius: 50%;\n",
              "      cursor: pointer;\n",
              "      display: none;\n",
              "      fill: #1967D2;\n",
              "      height: 32px;\n",
              "      padding: 0 0 0 0;\n",
              "      width: 32px;\n",
              "    }\n",
              "\n",
              "    .colab-df-convert:hover {\n",
              "      background-color: #E2EBFA;\n",
              "      box-shadow: 0px 1px 2px rgba(60, 64, 67, 0.3), 0px 1px 3px 1px rgba(60, 64, 67, 0.15);\n",
              "      fill: #174EA6;\n",
              "    }\n",
              "\n",
              "    .colab-df-buttons div {\n",
              "      margin-bottom: 4px;\n",
              "    }\n",
              "\n",
              "    [theme=dark] .colab-df-convert {\n",
              "      background-color: #3B4455;\n",
              "      fill: #D2E3FC;\n",
              "    }\n",
              "\n",
              "    [theme=dark] .colab-df-convert:hover {\n",
              "      background-color: #434B5C;\n",
              "      box-shadow: 0px 1px 3px 1px rgba(0, 0, 0, 0.15);\n",
              "      filter: drop-shadow(0px 1px 2px rgba(0, 0, 0, 0.3));\n",
              "      fill: #FFFFFF;\n",
              "    }\n",
              "  </style>\n",
              "\n",
              "    <script>\n",
              "      const buttonEl =\n",
              "        document.querySelector('#df-3cb8884c-6e0e-4b9f-9287-4ff664761970 button.colab-df-convert');\n",
              "      buttonEl.style.display =\n",
              "        google.colab.kernel.accessAllowed ? 'block' : 'none';\n",
              "\n",
              "      async function convertToInteractive(key) {\n",
              "        const element = document.querySelector('#df-3cb8884c-6e0e-4b9f-9287-4ff664761970');\n",
              "        const dataTable =\n",
              "          await google.colab.kernel.invokeFunction('convertToInteractive',\n",
              "                                                    [key], {});\n",
              "        if (!dataTable) return;\n",
              "\n",
              "        const docLinkHtml = 'Like what you see? Visit the ' +\n",
              "          '<a target=\"_blank\" href=https://colab.research.google.com/notebooks/data_table.ipynb>data table notebook</a>'\n",
              "          + ' to learn more about interactive tables.';\n",
              "        element.innerHTML = '';\n",
              "        dataTable['output_type'] = 'display_data';\n",
              "        await google.colab.output.renderOutput(dataTable, element);\n",
              "        const docLink = document.createElement('div');\n",
              "        docLink.innerHTML = docLinkHtml;\n",
              "        element.appendChild(docLink);\n",
              "      }\n",
              "    </script>\n",
              "  </div>\n",
              "\n",
              "\n",
              "<div id=\"df-a9a3329c-4af2-48a7-a0d9-3629ac1d6ab6\">\n",
              "  <button class=\"colab-df-quickchart\" onclick=\"quickchart('df-a9a3329c-4af2-48a7-a0d9-3629ac1d6ab6')\"\n",
              "            title=\"Suggest charts\"\n",
              "            style=\"display:none;\">\n",
              "\n",
              "<svg xmlns=\"http://www.w3.org/2000/svg\" height=\"24px\"viewBox=\"0 0 24 24\"\n",
              "     width=\"24px\">\n",
              "    <g>\n",
              "        <path d=\"M19 3H5c-1.1 0-2 .9-2 2v14c0 1.1.9 2 2 2h14c1.1 0 2-.9 2-2V5c0-1.1-.9-2-2-2zM9 17H7v-7h2v7zm4 0h-2V7h2v10zm4 0h-2v-4h2v4z\"/>\n",
              "    </g>\n",
              "</svg>\n",
              "  </button>\n",
              "\n",
              "<style>\n",
              "  .colab-df-quickchart {\n",
              "      --bg-color: #E8F0FE;\n",
              "      --fill-color: #1967D2;\n",
              "      --hover-bg-color: #E2EBFA;\n",
              "      --hover-fill-color: #174EA6;\n",
              "      --disabled-fill-color: #AAA;\n",
              "      --disabled-bg-color: #DDD;\n",
              "  }\n",
              "\n",
              "  [theme=dark] .colab-df-quickchart {\n",
              "      --bg-color: #3B4455;\n",
              "      --fill-color: #D2E3FC;\n",
              "      --hover-bg-color: #434B5C;\n",
              "      --hover-fill-color: #FFFFFF;\n",
              "      --disabled-bg-color: #3B4455;\n",
              "      --disabled-fill-color: #666;\n",
              "  }\n",
              "\n",
              "  .colab-df-quickchart {\n",
              "    background-color: var(--bg-color);\n",
              "    border: none;\n",
              "    border-radius: 50%;\n",
              "    cursor: pointer;\n",
              "    display: none;\n",
              "    fill: var(--fill-color);\n",
              "    height: 32px;\n",
              "    padding: 0;\n",
              "    width: 32px;\n",
              "  }\n",
              "\n",
              "  .colab-df-quickchart:hover {\n",
              "    background-color: var(--hover-bg-color);\n",
              "    box-shadow: 0 1px 2px rgba(60, 64, 67, 0.3), 0 1px 3px 1px rgba(60, 64, 67, 0.15);\n",
              "    fill: var(--button-hover-fill-color);\n",
              "  }\n",
              "\n",
              "  .colab-df-quickchart-complete:disabled,\n",
              "  .colab-df-quickchart-complete:disabled:hover {\n",
              "    background-color: var(--disabled-bg-color);\n",
              "    fill: var(--disabled-fill-color);\n",
              "    box-shadow: none;\n",
              "  }\n",
              "\n",
              "  .colab-df-spinner {\n",
              "    border: 2px solid var(--fill-color);\n",
              "    border-color: transparent;\n",
              "    border-bottom-color: var(--fill-color);\n",
              "    animation:\n",
              "      spin 1s steps(1) infinite;\n",
              "  }\n",
              "\n",
              "  @keyframes spin {\n",
              "    0% {\n",
              "      border-color: transparent;\n",
              "      border-bottom-color: var(--fill-color);\n",
              "      border-left-color: var(--fill-color);\n",
              "    }\n",
              "    20% {\n",
              "      border-color: transparent;\n",
              "      border-left-color: var(--fill-color);\n",
              "      border-top-color: var(--fill-color);\n",
              "    }\n",
              "    30% {\n",
              "      border-color: transparent;\n",
              "      border-left-color: var(--fill-color);\n",
              "      border-top-color: var(--fill-color);\n",
              "      border-right-color: var(--fill-color);\n",
              "    }\n",
              "    40% {\n",
              "      border-color: transparent;\n",
              "      border-right-color: var(--fill-color);\n",
              "      border-top-color: var(--fill-color);\n",
              "    }\n",
              "    60% {\n",
              "      border-color: transparent;\n",
              "      border-right-color: var(--fill-color);\n",
              "    }\n",
              "    80% {\n",
              "      border-color: transparent;\n",
              "      border-right-color: var(--fill-color);\n",
              "      border-bottom-color: var(--fill-color);\n",
              "    }\n",
              "    90% {\n",
              "      border-color: transparent;\n",
              "      border-bottom-color: var(--fill-color);\n",
              "    }\n",
              "  }\n",
              "</style>\n",
              "\n",
              "  <script>\n",
              "    async function quickchart(key) {\n",
              "      const quickchartButtonEl =\n",
              "        document.querySelector('#' + key + ' button');\n",
              "      quickchartButtonEl.disabled = true;  // To prevent multiple clicks.\n",
              "      quickchartButtonEl.classList.add('colab-df-spinner');\n",
              "      try {\n",
              "        const charts = await google.colab.kernel.invokeFunction(\n",
              "            'suggestCharts', [key], {});\n",
              "      } catch (error) {\n",
              "        console.error('Error during call to suggestCharts:', error);\n",
              "      }\n",
              "      quickchartButtonEl.classList.remove('colab-df-spinner');\n",
              "      quickchartButtonEl.classList.add('colab-df-quickchart-complete');\n",
              "    }\n",
              "    (() => {\n",
              "      let quickchartButtonEl =\n",
              "        document.querySelector('#df-a9a3329c-4af2-48a7-a0d9-3629ac1d6ab6 button');\n",
              "      quickchartButtonEl.style.display =\n",
              "        google.colab.kernel.accessAllowed ? 'block' : 'none';\n",
              "    })();\n",
              "  </script>\n",
              "</div>\n",
              "    </div>\n",
              "  </div>\n"
            ]
          },
          "metadata": {},
          "execution_count": 5
        }
      ]
    },
    {
      "cell_type": "code",
      "source": [
        "print(users.shape)\n",
        "users.rename(columns={'User-ID': 'UserID'}, inplace=True)\n",
        "users.head()"
      ],
      "metadata": {
        "colab": {
          "base_uri": "https://localhost:8080/",
          "height": 224
        },
        "id": "IBgHQw8PL54A",
        "outputId": "5b577028-067b-4ae0-ec90-49cf38bf96a8"
      },
      "execution_count": 6,
      "outputs": [
        {
          "output_type": "stream",
          "name": "stdout",
          "text": [
            "(278858, 3)\n"
          ]
        },
        {
          "output_type": "execute_result",
          "data": {
            "text/plain": [
              "   UserID                            Location   Age\n",
              "0       1                  nyc, new york, usa   NaN\n",
              "1       2           stockton, california, usa  18.0\n",
              "2       3     moscow, yukon territory, russia   NaN\n",
              "3       4           porto, v.n.gaia, portugal  17.0\n",
              "4       5  farnborough, hants, united kingdom   NaN"
            ],
            "text/html": [
              "\n",
              "  <div id=\"df-d0ac1b85-68b9-4455-b870-b5b91e8d022f\" class=\"colab-df-container\">\n",
              "    <div>\n",
              "<style scoped>\n",
              "    .dataframe tbody tr th:only-of-type {\n",
              "        vertical-align: middle;\n",
              "    }\n",
              "\n",
              "    .dataframe tbody tr th {\n",
              "        vertical-align: top;\n",
              "    }\n",
              "\n",
              "    .dataframe thead th {\n",
              "        text-align: right;\n",
              "    }\n",
              "</style>\n",
              "<table border=\"1\" class=\"dataframe\">\n",
              "  <thead>\n",
              "    <tr style=\"text-align: right;\">\n",
              "      <th></th>\n",
              "      <th>UserID</th>\n",
              "      <th>Location</th>\n",
              "      <th>Age</th>\n",
              "    </tr>\n",
              "  </thead>\n",
              "  <tbody>\n",
              "    <tr>\n",
              "      <th>0</th>\n",
              "      <td>1</td>\n",
              "      <td>nyc, new york, usa</td>\n",
              "      <td>NaN</td>\n",
              "    </tr>\n",
              "    <tr>\n",
              "      <th>1</th>\n",
              "      <td>2</td>\n",
              "      <td>stockton, california, usa</td>\n",
              "      <td>18.0</td>\n",
              "    </tr>\n",
              "    <tr>\n",
              "      <th>2</th>\n",
              "      <td>3</td>\n",
              "      <td>moscow, yukon territory, russia</td>\n",
              "      <td>NaN</td>\n",
              "    </tr>\n",
              "    <tr>\n",
              "      <th>3</th>\n",
              "      <td>4</td>\n",
              "      <td>porto, v.n.gaia, portugal</td>\n",
              "      <td>17.0</td>\n",
              "    </tr>\n",
              "    <tr>\n",
              "      <th>4</th>\n",
              "      <td>5</td>\n",
              "      <td>farnborough, hants, united kingdom</td>\n",
              "      <td>NaN</td>\n",
              "    </tr>\n",
              "  </tbody>\n",
              "</table>\n",
              "</div>\n",
              "    <div class=\"colab-df-buttons\">\n",
              "\n",
              "  <div class=\"colab-df-container\">\n",
              "    <button class=\"colab-df-convert\" onclick=\"convertToInteractive('df-d0ac1b85-68b9-4455-b870-b5b91e8d022f')\"\n",
              "            title=\"Convert this dataframe to an interactive table.\"\n",
              "            style=\"display:none;\">\n",
              "\n",
              "  <svg xmlns=\"http://www.w3.org/2000/svg\" height=\"24px\" viewBox=\"0 -960 960 960\">\n",
              "    <path d=\"M120-120v-720h720v720H120Zm60-500h600v-160H180v160Zm220 220h160v-160H400v160Zm0 220h160v-160H400v160ZM180-400h160v-160H180v160Zm440 0h160v-160H620v160ZM180-180h160v-160H180v160Zm440 0h160v-160H620v160Z\"/>\n",
              "  </svg>\n",
              "    </button>\n",
              "\n",
              "  <style>\n",
              "    .colab-df-container {\n",
              "      display:flex;\n",
              "      gap: 12px;\n",
              "    }\n",
              "\n",
              "    .colab-df-convert {\n",
              "      background-color: #E8F0FE;\n",
              "      border: none;\n",
              "      border-radius: 50%;\n",
              "      cursor: pointer;\n",
              "      display: none;\n",
              "      fill: #1967D2;\n",
              "      height: 32px;\n",
              "      padding: 0 0 0 0;\n",
              "      width: 32px;\n",
              "    }\n",
              "\n",
              "    .colab-df-convert:hover {\n",
              "      background-color: #E2EBFA;\n",
              "      box-shadow: 0px 1px 2px rgba(60, 64, 67, 0.3), 0px 1px 3px 1px rgba(60, 64, 67, 0.15);\n",
              "      fill: #174EA6;\n",
              "    }\n",
              "\n",
              "    .colab-df-buttons div {\n",
              "      margin-bottom: 4px;\n",
              "    }\n",
              "\n",
              "    [theme=dark] .colab-df-convert {\n",
              "      background-color: #3B4455;\n",
              "      fill: #D2E3FC;\n",
              "    }\n",
              "\n",
              "    [theme=dark] .colab-df-convert:hover {\n",
              "      background-color: #434B5C;\n",
              "      box-shadow: 0px 1px 3px 1px rgba(0, 0, 0, 0.15);\n",
              "      filter: drop-shadow(0px 1px 2px rgba(0, 0, 0, 0.3));\n",
              "      fill: #FFFFFF;\n",
              "    }\n",
              "  </style>\n",
              "\n",
              "    <script>\n",
              "      const buttonEl =\n",
              "        document.querySelector('#df-d0ac1b85-68b9-4455-b870-b5b91e8d022f button.colab-df-convert');\n",
              "      buttonEl.style.display =\n",
              "        google.colab.kernel.accessAllowed ? 'block' : 'none';\n",
              "\n",
              "      async function convertToInteractive(key) {\n",
              "        const element = document.querySelector('#df-d0ac1b85-68b9-4455-b870-b5b91e8d022f');\n",
              "        const dataTable =\n",
              "          await google.colab.kernel.invokeFunction('convertToInteractive',\n",
              "                                                    [key], {});\n",
              "        if (!dataTable) return;\n",
              "\n",
              "        const docLinkHtml = 'Like what you see? Visit the ' +\n",
              "          '<a target=\"_blank\" href=https://colab.research.google.com/notebooks/data_table.ipynb>data table notebook</a>'\n",
              "          + ' to learn more about interactive tables.';\n",
              "        element.innerHTML = '';\n",
              "        dataTable['output_type'] = 'display_data';\n",
              "        await google.colab.output.renderOutput(dataTable, element);\n",
              "        const docLink = document.createElement('div');\n",
              "        docLink.innerHTML = docLinkHtml;\n",
              "        element.appendChild(docLink);\n",
              "      }\n",
              "    </script>\n",
              "  </div>\n",
              "\n",
              "\n",
              "<div id=\"df-71c6adb6-fb0b-48a6-a788-c8f8756a5206\">\n",
              "  <button class=\"colab-df-quickchart\" onclick=\"quickchart('df-71c6adb6-fb0b-48a6-a788-c8f8756a5206')\"\n",
              "            title=\"Suggest charts\"\n",
              "            style=\"display:none;\">\n",
              "\n",
              "<svg xmlns=\"http://www.w3.org/2000/svg\" height=\"24px\"viewBox=\"0 0 24 24\"\n",
              "     width=\"24px\">\n",
              "    <g>\n",
              "        <path d=\"M19 3H5c-1.1 0-2 .9-2 2v14c0 1.1.9 2 2 2h14c1.1 0 2-.9 2-2V5c0-1.1-.9-2-2-2zM9 17H7v-7h2v7zm4 0h-2V7h2v10zm4 0h-2v-4h2v4z\"/>\n",
              "    </g>\n",
              "</svg>\n",
              "  </button>\n",
              "\n",
              "<style>\n",
              "  .colab-df-quickchart {\n",
              "      --bg-color: #E8F0FE;\n",
              "      --fill-color: #1967D2;\n",
              "      --hover-bg-color: #E2EBFA;\n",
              "      --hover-fill-color: #174EA6;\n",
              "      --disabled-fill-color: #AAA;\n",
              "      --disabled-bg-color: #DDD;\n",
              "  }\n",
              "\n",
              "  [theme=dark] .colab-df-quickchart {\n",
              "      --bg-color: #3B4455;\n",
              "      --fill-color: #D2E3FC;\n",
              "      --hover-bg-color: #434B5C;\n",
              "      --hover-fill-color: #FFFFFF;\n",
              "      --disabled-bg-color: #3B4455;\n",
              "      --disabled-fill-color: #666;\n",
              "  }\n",
              "\n",
              "  .colab-df-quickchart {\n",
              "    background-color: var(--bg-color);\n",
              "    border: none;\n",
              "    border-radius: 50%;\n",
              "    cursor: pointer;\n",
              "    display: none;\n",
              "    fill: var(--fill-color);\n",
              "    height: 32px;\n",
              "    padding: 0;\n",
              "    width: 32px;\n",
              "  }\n",
              "\n",
              "  .colab-df-quickchart:hover {\n",
              "    background-color: var(--hover-bg-color);\n",
              "    box-shadow: 0 1px 2px rgba(60, 64, 67, 0.3), 0 1px 3px 1px rgba(60, 64, 67, 0.15);\n",
              "    fill: var(--button-hover-fill-color);\n",
              "  }\n",
              "\n",
              "  .colab-df-quickchart-complete:disabled,\n",
              "  .colab-df-quickchart-complete:disabled:hover {\n",
              "    background-color: var(--disabled-bg-color);\n",
              "    fill: var(--disabled-fill-color);\n",
              "    box-shadow: none;\n",
              "  }\n",
              "\n",
              "  .colab-df-spinner {\n",
              "    border: 2px solid var(--fill-color);\n",
              "    border-color: transparent;\n",
              "    border-bottom-color: var(--fill-color);\n",
              "    animation:\n",
              "      spin 1s steps(1) infinite;\n",
              "  }\n",
              "\n",
              "  @keyframes spin {\n",
              "    0% {\n",
              "      border-color: transparent;\n",
              "      border-bottom-color: var(--fill-color);\n",
              "      border-left-color: var(--fill-color);\n",
              "    }\n",
              "    20% {\n",
              "      border-color: transparent;\n",
              "      border-left-color: var(--fill-color);\n",
              "      border-top-color: var(--fill-color);\n",
              "    }\n",
              "    30% {\n",
              "      border-color: transparent;\n",
              "      border-left-color: var(--fill-color);\n",
              "      border-top-color: var(--fill-color);\n",
              "      border-right-color: var(--fill-color);\n",
              "    }\n",
              "    40% {\n",
              "      border-color: transparent;\n",
              "      border-right-color: var(--fill-color);\n",
              "      border-top-color: var(--fill-color);\n",
              "    }\n",
              "    60% {\n",
              "      border-color: transparent;\n",
              "      border-right-color: var(--fill-color);\n",
              "    }\n",
              "    80% {\n",
              "      border-color: transparent;\n",
              "      border-right-color: var(--fill-color);\n",
              "      border-bottom-color: var(--fill-color);\n",
              "    }\n",
              "    90% {\n",
              "      border-color: transparent;\n",
              "      border-bottom-color: var(--fill-color);\n",
              "    }\n",
              "  }\n",
              "</style>\n",
              "\n",
              "  <script>\n",
              "    async function quickchart(key) {\n",
              "      const quickchartButtonEl =\n",
              "        document.querySelector('#' + key + ' button');\n",
              "      quickchartButtonEl.disabled = true;  // To prevent multiple clicks.\n",
              "      quickchartButtonEl.classList.add('colab-df-spinner');\n",
              "      try {\n",
              "        const charts = await google.colab.kernel.invokeFunction(\n",
              "            'suggestCharts', [key], {});\n",
              "      } catch (error) {\n",
              "        console.error('Error during call to suggestCharts:', error);\n",
              "      }\n",
              "      quickchartButtonEl.classList.remove('colab-df-spinner');\n",
              "      quickchartButtonEl.classList.add('colab-df-quickchart-complete');\n",
              "    }\n",
              "    (() => {\n",
              "      let quickchartButtonEl =\n",
              "        document.querySelector('#df-71c6adb6-fb0b-48a6-a788-c8f8756a5206 button');\n",
              "      quickchartButtonEl.style.display =\n",
              "        google.colab.kernel.accessAllowed ? 'block' : 'none';\n",
              "    })();\n",
              "  </script>\n",
              "</div>\n",
              "    </div>\n",
              "  </div>\n"
            ]
          },
          "metadata": {},
          "execution_count": 6
        }
      ]
    },
    {
      "cell_type": "code",
      "source": [
        "#Look the summary of the dataset's structure\n",
        "books.info()"
      ],
      "metadata": {
        "colab": {
          "base_uri": "https://localhost:8080/"
        },
        "id": "cPEqM08LY1hU",
        "outputId": "015d6e7a-7b00-4537-9939-31d6e0e17a8c"
      },
      "execution_count": 7,
      "outputs": [
        {
          "output_type": "stream",
          "name": "stdout",
          "text": [
            "<class 'pandas.core.frame.DataFrame'>\n",
            "RangeIndex: 271360 entries, 0 to 271359\n",
            "Data columns (total 5 columns):\n",
            " #   Column     Non-Null Count   Dtype \n",
            "---  ------     --------------   ----- \n",
            " 0   ISBN       271360 non-null  object\n",
            " 1   Title      271360 non-null  object\n",
            " 2   Author     271359 non-null  object\n",
            " 3   PublYear   271360 non-null  object\n",
            " 4   Publisher  271358 non-null  object\n",
            "dtypes: object(5)\n",
            "memory usage: 10.4+ MB\n"
          ]
        }
      ]
    },
    {
      "cell_type": "code",
      "source": [
        "ratings.info()"
      ],
      "metadata": {
        "colab": {
          "base_uri": "https://localhost:8080/"
        },
        "id": "HLNA60EMZWok",
        "outputId": "cbcefa41-5efa-45d4-bd2f-4119335a5429"
      },
      "execution_count": 8,
      "outputs": [
        {
          "output_type": "stream",
          "name": "stdout",
          "text": [
            "<class 'pandas.core.frame.DataFrame'>\n",
            "RangeIndex: 1149780 entries, 0 to 1149779\n",
            "Data columns (total 3 columns):\n",
            " #   Column  Non-Null Count    Dtype \n",
            "---  ------  --------------    ----- \n",
            " 0   UserID  1149780 non-null  int64 \n",
            " 1   ISBN    1149780 non-null  object\n",
            " 2   Rating  1149780 non-null  int64 \n",
            "dtypes: int64(2), object(1)\n",
            "memory usage: 26.3+ MB\n"
          ]
        }
      ]
    },
    {
      "cell_type": "code",
      "source": [
        "users.info()"
      ],
      "metadata": {
        "colab": {
          "base_uri": "https://localhost:8080/"
        },
        "id": "uPEFf1JJZFP7",
        "outputId": "9736a71e-75f0-4689-e593-53e712deb7d5"
      },
      "execution_count": 9,
      "outputs": [
        {
          "output_type": "stream",
          "name": "stdout",
          "text": [
            "<class 'pandas.core.frame.DataFrame'>\n",
            "RangeIndex: 278858 entries, 0 to 278857\n",
            "Data columns (total 3 columns):\n",
            " #   Column    Non-Null Count   Dtype  \n",
            "---  ------    --------------   -----  \n",
            " 0   UserID    278858 non-null  int64  \n",
            " 1   Location  278858 non-null  object \n",
            " 2   Age       168096 non-null  float64\n",
            "dtypes: float64(1), int64(1), object(1)\n",
            "memory usage: 6.4+ MB\n"
          ]
        }
      ]
    },
    {
      "cell_type": "markdown",
      "source": [
        "books:\n",
        "There are 271,360 rows with index values ranging from 0 to 271,359, 5 columns with special names,3 missing values, estimated memory usage is 10,4+MB, still small.\n",
        "\n",
        "ratings:\n",
        "There are 1149780 rows with index values ranging from 0 to 1,149,779, 3 columns with special names,not missing values, estimated memory usage is 26,3+MB.\n",
        "\n",
        "users:\n",
        "There are 278,858 rows with index values ranging from 0 to 278,857, 3 columns with special names, the \"Age\" column has 110,762 missing values and float type, estimated memory usage is 6,4+MB, not memory-intensive.\n",
        "\n"
      ],
      "metadata": {
        "id": "iip_hrYsZbuK"
      }
    },
    {
      "cell_type": "markdown",
      "source": [
        "**Analyzing and cleaning BOOKS dataset**\n",
        "1. Cleaning Year of Publication column values : make it integer, cleaning mistakes.\n",
        "2. Cleaning some mistakes and missing values in Title and Author, Publisher columns."
      ],
      "metadata": {
        "id": "gb5xbGl6KdZH"
      }
    },
    {
      "cell_type": "code",
      "source": [
        "print('books:\\n',books.dtypes)"
      ],
      "metadata": {
        "colab": {
          "base_uri": "https://localhost:8080/"
        },
        "id": "z960wtfLoP-8",
        "outputId": "94265d5a-be2e-45cd-fbcf-589f6b3ede6f"
      },
      "execution_count": 10,
      "outputs": [
        {
          "output_type": "stream",
          "name": "stdout",
          "text": [
            "books:\n",
            " ISBN         object\n",
            "Title        object\n",
            "Author       object\n",
            "PublYear     object\n",
            "Publisher    object\n",
            "dtype: object\n"
          ]
        }
      ]
    },
    {
      "cell_type": "code",
      "source": [
        "#Let's look at PublYear. Do it integer.\n",
        "print('Year of publication',books['PublYear'].unique())"
      ],
      "metadata": {
        "colab": {
          "base_uri": "https://localhost:8080/"
        },
        "id": "EJX037lMoAD8",
        "outputId": "6457953f-00ef-4ebc-86cc-14b80922addb"
      },
      "execution_count": 11,
      "outputs": [
        {
          "output_type": "stream",
          "name": "stdout",
          "text": [
            "Year of publication [2002 2001 1991 1999 2000 1993 1996 1988 2004 1998 1994 2003 1997 1983\n",
            " 1979 1995 1982 1985 1992 1986 1978 1980 1952 1987 1990 1981 1989 1984 0\n",
            " 1968 1961 1958 1974 1976 1971 1977 1975 1965 1941 1970 1962 1973 1972\n",
            " 1960 1966 1920 1956 1959 1953 1951 1942 1963 1964 1969 1954 1950 1967\n",
            " 2005 1957 1940 1937 1955 1946 1936 1930 2011 1925 1948 1943 1947 1945\n",
            " 1923 2020 1939 1926 1938 2030 1911 1904 1949 1932 1928 1929 1927 1931\n",
            " 1914 2050 1934 1910 1933 1902 1924 1921 1900 2038 2026 1944 1917 1901\n",
            " 2010 1908 1906 1935 1806 2021 '2000' '1995' '1999' '2004' '2003' '1990'\n",
            " '1994' '1986' '1989' '2002' '1981' '1993' '1983' '1982' '1976' '1991'\n",
            " '1977' '1998' '1992' '1996' '0' '1997' '2001' '1974' '1968' '1987' '1984'\n",
            " '1988' '1963' '1956' '1970' '1985' '1978' '1973' '1980' '1979' '1975'\n",
            " '1969' '1961' '1965' '1939' '1958' '1950' '1953' '1966' '1971' '1959'\n",
            " '1972' '1955' '1957' '1945' '1960' '1967' '1932' '1924' '1964' '2012'\n",
            " '1911' '1927' '1948' '1962' '2006' '1952' '1940' '1951' '1931' '1954'\n",
            " '2005' '1930' '1941' '1944' 'DK Publishing Inc' '1943' '1938' '1900'\n",
            " '1942' '1923' '1920' '1933' 'Gallimard' '1909' '1946' '2008' '1378'\n",
            " '2030' '1936' '1947' '2011' '2020' '1919' '1949' '1922' '1897' '2024'\n",
            " '1376' '1926' '2037']\n"
          ]
        }
      ]
    },
    {
      "cell_type": "code",
      "source": [
        "# Count occurrences of 'DK Publishing Inc' and 'Gallimard'\n",
        "counts = books['PublYear'].isin(['DK Publishing Inc', 'Gallimard']).sum()\n",
        "\n",
        "# Display the count\n",
        "print(f\"Count of 'DK Publishing Inc' and 'Gallimard': {counts}\")\n",
        "\n",
        "# Display the rows where these values occur\n",
        "rows_with_values = books[books['PublYear'].isin(['DK Publishing Inc', 'Gallimard'])]\n",
        "print(\"\\nRows with 'DK Publishing Inc' and 'Gallimard':\")\n",
        "print(rows_with_values)\n"
      ],
      "metadata": {
        "colab": {
          "base_uri": "https://localhost:8080/"
        },
        "id": "eIxUtbFbrgkU",
        "outputId": "1713200c-e862-41d5-ad22-d035ef7aff8c"
      },
      "execution_count": 12,
      "outputs": [
        {
          "output_type": "stream",
          "name": "stdout",
          "text": [
            "Count of 'DK Publishing Inc' and 'Gallimard': 3\n",
            "\n",
            "Rows with 'DK Publishing Inc' and 'Gallimard':\n",
            "              ISBN                                              Title Author  \\\n",
            "209538  078946697X  DK Readers: Creating the X-Men, How It All Beg...   2000   \n",
            "220731  2070426769  Peuple du ciel, suivi de 'Les Bergers\\\";Jean-M...   2003   \n",
            "221678  0789466953  DK Readers: Creating the X-Men, How Comic Book...   2000   \n",
            "\n",
            "                 PublYear                                          Publisher  \n",
            "209538  DK Publishing Inc  http://images.amazon.com/images/P/078946697X.0...  \n",
            "220731          Gallimard  http://images.amazon.com/images/P/2070426769.0...  \n",
            "221678  DK Publishing Inc  http://images.amazon.com/images/P/0789466953.0...  \n"
          ]
        }
      ]
    },
    {
      "cell_type": "markdown",
      "source": [
        "Since the year of publication was mistakengly inserted into Author column, let's correct it"
      ],
      "metadata": {
        "id": "hG9BpTNQ9jvn"
      }
    },
    {
      "cell_type": "code",
      "source": [
        "rows_to_swap = [209538, 220731, 221678]\n",
        "# Swap values between \"PublYear\" and \"Publisher\" for the specified rows\n",
        "books.loc[rows_to_swap, 'Publisher'] = books.loc[rows_to_swap, 'PublYear']\n",
        "books.loc[rows_to_swap, 'PublYear'] = books.loc[rows_to_swap, 'Author']\n",
        "selected_rows = books.loc[rows_to_swap]\n",
        "print(selected_rows)"
      ],
      "metadata": {
        "colab": {
          "base_uri": "https://localhost:8080/"
        },
        "id": "ZUQsEC5x92e8",
        "outputId": "ff2a9f79-0b64-4537-ea5e-ed762ba2f66d"
      },
      "execution_count": 13,
      "outputs": [
        {
          "output_type": "stream",
          "name": "stdout",
          "text": [
            "              ISBN                                              Title Author  \\\n",
            "209538  078946697X  DK Readers: Creating the X-Men, How It All Beg...   2000   \n",
            "220731  2070426769  Peuple du ciel, suivi de 'Les Bergers\\\";Jean-M...   2003   \n",
            "221678  0789466953  DK Readers: Creating the X-Men, How Comic Book...   2000   \n",
            "\n",
            "       PublYear          Publisher  \n",
            "209538     2000  DK Publishing Inc  \n",
            "220731     2003          Gallimard  \n",
            "221678     2000  DK Publishing Inc  \n"
          ]
        }
      ]
    },
    {
      "cell_type": "code",
      "source": [
        "pd.set_option('display.max_colwidth', None)\n",
        "books.loc[rows_to_swap]['Title']"
      ],
      "metadata": {
        "colab": {
          "base_uri": "https://localhost:8080/"
        },
        "id": "_yJE8BoyBT2f",
        "outputId": "2acba42f-85bb-4df4-b912-7ae8d315db6f"
      },
      "execution_count": 14,
      "outputs": [
        {
          "output_type": "execute_result",
          "data": {
            "text/plain": [
              "209538           DK Readers: Creating the X-Men, How It All Began (Level 4: Proficient Readers)\\\";Michael Teitelbaum\"\n",
              "220731                                       Peuple du ciel, suivi de 'Les Bergers\\\";Jean-Marie Gustave Le ClÃ?Â©zio\"\n",
              "221678    DK Readers: Creating the X-Men, How Comic Books Come to Life (Level 4: Proficient Readers)\\\";James Buckley\"\n",
              "Name: Title, dtype: object"
            ]
          },
          "metadata": {},
          "execution_count": 14
        }
      ]
    },
    {
      "cell_type": "code",
      "source": [
        "hh=books['Author'].unique()\n",
        "author_to_check = 'Jean-Marie Gustave Le ClÃ?Â©zio'\n",
        "\n",
        "if author_to_check in hh:\n",
        "    print(f'{author_to_check} is in the array.')\n",
        "else:\n",
        "    print(f'{author_to_check} is not in the array.')"
      ],
      "metadata": {
        "colab": {
          "base_uri": "https://localhost:8080/"
        },
        "id": "kV4sVLO8JY3z",
        "outputId": "a41d7fdf-d84e-4ff2-9bd9-933a1eb42084"
      },
      "execution_count": 15,
      "outputs": [
        {
          "output_type": "stream",
          "name": "stdout",
          "text": [
            "Jean-Marie Gustave Le ClÃ?Â©zio is in the array.\n"
          ]
        }
      ]
    },
    {
      "cell_type": "code",
      "source": [
        "# List of new values for 'Title' and 'Author'\n",
        "new_titles = ['DK Readers Creating the X-Men How It All Began (Level 4: Proficient Readers)', 'Peuple du ciel, suivi de Les Bergers', 'DK Readers: Creating the X-Men, How Comic Books Come to Life (Level 4: Proficient Readers)']\n",
        "new_authors = ['Michael Teitelbaum', 'Jean-Marie Gustave Le ClÃ?Â©zio','James Buckley']\n",
        "\n",
        "# Manually set values for 'Title' and 'Author' columns using lists\n",
        "books.loc[rows_to_swap, 'Title'] = new_titles\n",
        "books.loc[rows_to_swap, 'Author'] = new_authors\n",
        "print(books.loc[rows_to_swap])"
      ],
      "metadata": {
        "colab": {
          "base_uri": "https://localhost:8080/"
        },
        "id": "P6uuw61NDggN",
        "outputId": "7b9529b9-3cf3-4d94-927c-769bd8870c99"
      },
      "execution_count": 16,
      "outputs": [
        {
          "output_type": "stream",
          "name": "stdout",
          "text": [
            "              ISBN  \\\n",
            "209538  078946697X   \n",
            "220731  2070426769   \n",
            "221678  0789466953   \n",
            "\n",
            "                                                                                             Title  \\\n",
            "209538                DK Readers Creating the X-Men How It All Began (Level 4: Proficient Readers)   \n",
            "220731                                                        Peuple du ciel, suivi de Les Bergers   \n",
            "221678  DK Readers: Creating the X-Men, How Comic Books Come to Life (Level 4: Proficient Readers)   \n",
            "\n",
            "                                 Author PublYear          Publisher  \n",
            "209538               Michael Teitelbaum     2000  DK Publishing Inc  \n",
            "220731  Jean-Marie Gustave Le ClÃ?Â©zio     2003          Gallimard  \n",
            "221678                    James Buckley     2000  DK Publishing Inc  \n"
          ]
        }
      ]
    },
    {
      "cell_type": "code",
      "source": [
        "#Change publication year into integer\n",
        "books['PublYear'] = books['PublYear'].astype(int)"
      ],
      "metadata": {
        "id": "pGJXNGcvUlJd"
      },
      "execution_count": 17,
      "outputs": []
    },
    {
      "cell_type": "code",
      "source": [
        "# checking null values and correct them if possible\n",
        "null_values = books[books[['Author', 'PublYear', 'Publisher']].isnull().any(axis=1)]\n",
        "\n",
        "# Display rows with null values\n",
        "print(null_values)"
      ],
      "metadata": {
        "colab": {
          "base_uri": "https://localhost:8080/"
        },
        "id": "rf_7Igm-B1NK",
        "outputId": "2b84e118-03bd-4b5b-dfce-9dd9331c6beb"
      },
      "execution_count": 18,
      "outputs": [
        {
          "output_type": "stream",
          "name": "stdout",
          "text": [
            "              ISBN                                                     Title  \\\n",
            "128890  193169656X                                               Tyrant Moon   \n",
            "129037  1931696993                                           Finders Keepers   \n",
            "187689  9627982032  The Credit Suisse Guide to Managing Your Personal Wealth   \n",
            "\n",
            "                 Author  PublYear                       Publisher  \n",
            "128890  Elaine Corvidae      2002                             NaN  \n",
            "129037  Linnea Sinclair      2001                             NaN  \n",
            "187689              NaN      1995  Edinburgh Financial Publishing  \n"
          ]
        }
      ]
    },
    {
      "cell_type": "code",
      "source": [
        "pp=books['Publisher'].unique()\n",
        "publisher_to_check = 'CreateSpace Independent Publishing Platform'\n",
        "\n",
        "if author_to_check in hh:\n",
        "    print(f'{publisher_to_check} is in the array.')\n",
        "else:\n",
        "    print(f'{publisher_to_check} is not in the array.')\n",
        "\n",
        "rows_to_change = [128890, 129037]\n",
        "# List of new values for  'Publisher'\n",
        "new_publishers = ['NovelBooks, Inc.', 'CreateSpace Independent Publishing Platform']\n",
        "\n",
        "# Manually set values for 'Publisher'\n",
        "books.loc[rows_to_change, 'Publisher'] = new_publishers\n",
        "books = books.drop(187689)\n",
        "print(books.loc[rows_to_change])\n",
        "books.info()"
      ],
      "metadata": {
        "colab": {
          "base_uri": "https://localhost:8080/"
        },
        "id": "ClPqku0WDFII",
        "outputId": "498c1079-0418-476a-b442-6173948a73c5"
      },
      "execution_count": 19,
      "outputs": [
        {
          "output_type": "stream",
          "name": "stdout",
          "text": [
            "CreateSpace Independent Publishing Platform is in the array.\n",
            "              ISBN            Title           Author  PublYear  \\\n",
            "128890  193169656X      Tyrant Moon  Elaine Corvidae      2002   \n",
            "129037  1931696993  Finders Keepers  Linnea Sinclair      2001   \n",
            "\n",
            "                                          Publisher  \n",
            "128890                             NovelBooks, Inc.  \n",
            "129037  CreateSpace Independent Publishing Platform  \n",
            "<class 'pandas.core.frame.DataFrame'>\n",
            "Int64Index: 271359 entries, 0 to 271359\n",
            "Data columns (total 5 columns):\n",
            " #   Column     Non-Null Count   Dtype \n",
            "---  ------     --------------   ----- \n",
            " 0   ISBN       271359 non-null  object\n",
            " 1   Title      271359 non-null  object\n",
            " 2   Author     271359 non-null  object\n",
            " 3   PublYear   271359 non-null  int64 \n",
            " 4   Publisher  271359 non-null  object\n",
            "dtypes: int64(1), object(4)\n",
            "memory usage: 20.5+ MB\n"
          ]
        }
      ]
    },
    {
      "cell_type": "markdown",
      "source": [
        "**Analyzing and cleaning USERS dataset**"
      ],
      "metadata": {
        "id": "UsjMfj0-FQ0H"
      }
    },
    {
      "cell_type": "markdown",
      "source": [
        "1. Age column has a lot of missing values, some  unreasonable values,like higher than 100. Correcting them. Filling n/a with median values, which influence distribution in significantly. Define a threshold 10 -100. Building some visualization.\n",
        "2. Defining most reading age bin."
      ],
      "metadata": {
        "id": "irvhQ1grsdfi"
      }
    },
    {
      "cell_type": "code",
      "source": [
        "print('users:\\n',users.dtypes)"
      ],
      "metadata": {
        "colab": {
          "base_uri": "https://localhost:8080/"
        },
        "id": "rgXPMwtqa4oh",
        "outputId": "a0ec0c35-34ba-448f-b834-6d86c9481df4"
      },
      "execution_count": 20,
      "outputs": [
        {
          "output_type": "stream",
          "name": "stdout",
          "text": [
            "users:\n",
            " UserID        int64\n",
            "Location     object\n",
            "Age         float64\n",
            "dtype: object\n"
          ]
        }
      ]
    },
    {
      "cell_type": "code",
      "source": [
        "# Users age is not necessary to be float.Analyze the numbers.\n",
        "print('Users age',users['Age'].unique())"
      ],
      "metadata": {
        "colab": {
          "base_uri": "https://localhost:8080/"
        },
        "id": "iGBXoBpWhzmz",
        "outputId": "682b72cf-7e4c-4965-9b16-a095b11a7c32"
      },
      "execution_count": 21,
      "outputs": [
        {
          "output_type": "stream",
          "name": "stdout",
          "text": [
            "Users age [ nan  18.  17.  61.  26.  14.  25.  19.  46.  55.  32.  24.  20.  34.\n",
            "  23.  51.  31.  21.  44.  30.  57.  43.  37.  41.  54.  42.  50.  39.\n",
            "  53.  47.  36.  28.  35.  13.  58.  49.  38.  45.  62.  63.  27.  33.\n",
            "  29.  66.  40.  15.  60.   0.  79.  22.  16.  65.  59.  48.  72.  56.\n",
            "  67.   1.  80.  52.  69.  71.  73.  78.   9.  64. 103. 104.  12.  74.\n",
            "  75. 231.   3.  76.  83.  68. 119.  11.  77.   2.  70.  93.   8.   7.\n",
            "   4.  81. 114. 230. 239.  10.   5. 148. 151.   6. 101. 201.  96.  84.\n",
            "  82.  90. 123. 244. 133.  91. 128.  94.  85. 141. 110.  97. 219.  86.\n",
            " 124.  92. 175. 172. 209. 212. 237.  87. 162. 100. 156. 136.  95.  89.\n",
            " 106.  99. 108. 210.  88. 199. 147. 168. 132. 159. 186. 152. 102. 116.\n",
            " 200. 115. 226. 137. 207. 229. 138. 109. 105. 228. 183. 204.  98. 223.\n",
            " 113. 208. 107. 157. 111. 146. 118. 220. 143. 140. 189. 127.]\n"
          ]
        }
      ]
    },
    {
      "cell_type": "code",
      "source": [
        "users['Age'].plot(kind='hist', bins=20)\n",
        "plt.show()\n"
      ],
      "metadata": {
        "colab": {
          "base_uri": "https://localhost:8080/",
          "height": 430
        },
        "id": "XnHkQAz-kkJj",
        "outputId": "866f3e40-77fe-45f6-f01c-4b4a5d3e3381"
      },
      "execution_count": 22,
      "outputs": [
        {
          "output_type": "display_data",
          "data": {
            "text/plain": [
              "<Figure size 640x480 with 1 Axes>"
            ],
            "image/png": "[encoded data removed]"
          },
          "metadata": {}
        }
      ]
    },
    {
      "cell_type": "code",
      "source": [
        "#Some values are above 100,which is unreasonable, let's remove outliers\n",
        "#Define a threshold 10 -100\n",
        "users = users[(users['Age'] >= 10) & (users['Age'] < 100)]\n",
        "users['Age'].plot(kind='hist', bins=20)\n",
        "plt.show()\n",
        "\n",
        "#Fill missing values with median.\n",
        "users['Age'].fillna(users['Age'].median(), inplace=True)\n",
        "\n",
        "users['Age'].plot(kind='hist', bins=20)\n",
        "plt.ylabel('Age')\n",
        "plt.title('Distribution of Age ')\n",
        "plt.show()\n",
        "users['Age'] = users['Age'].astype(int)\n"
      ],
      "metadata": {
        "colab": {
          "base_uri": "https://localhost:8080/",
          "height": 865
        },
        "id": "KBx6Rfjwkzps",
        "outputId": "743f1b89-8741-4b72-8bf2-cd9f0b35c0e0"
      },
      "execution_count": 23,
      "outputs": [
        {
          "output_type": "display_data",
          "data": {
            "text/plain": [
              "<Figure size 640x480 with 1 Axes>"
            ],
            "image/png": "[encoded data removed]"
          },
          "metadata": {}
        },
        {
          "output_type": "display_data",
          "data": {
            "text/plain": [
              "<Figure size 640x480 with 1 Axes>"
            ],
            "image/png": "[encoded data removed]"
          },
          "metadata": {}
        }
      ]
    },
    {
      "cell_type": "code",
      "source": [
        "users.describe()"
      ],
      "metadata": {
        "colab": {
          "base_uri": "https://localhost:8080/",
          "height": 300
        },
        "id": "dBAyhgKrpxg2",
        "outputId": "8d1d3e55-5312-435a-b548-63d9891d49e0"
      },
      "execution_count": 24,
      "outputs": [
        {
          "output_type": "execute_result",
          "data": {
            "text/plain": [
              "              UserID            Age\n",
              "count  166654.000000  166654.000000\n",
              "mean   139397.928463      34.774383\n",
              "std     80553.281964      13.603909\n",
              "min         2.000000      10.000000\n",
              "25%     69916.250000      24.000000\n",
              "50%    139358.000000      32.000000\n",
              "75%    209146.750000      44.000000\n",
              "max    278855.000000      99.000000"
            ],
            "text/html": [
              "\n",
              "  <div id=\"df-1ea4856c-2374-4452-997f-029f060dd8e6\" class=\"colab-df-container\">\n",
              "    <div>\n",
              "<style scoped>\n",
              "    .dataframe tbody tr th:only-of-type {\n",
              "        vertical-align: middle;\n",
              "    }\n",
              "\n",
              "    .dataframe tbody tr th {\n",
              "        vertical-align: top;\n",
              "    }\n",
              "\n",
              "    .dataframe thead th {\n",
              "        text-align: right;\n",
              "    }\n",
              "</style>\n",
              "<table border=\"1\" class=\"dataframe\">\n",
              "  <thead>\n",
              "    <tr style=\"text-align: right;\">\n",
              "      <th></th>\n",
              "      <th>UserID</th>\n",
              "      <th>Age</th>\n",
              "    </tr>\n",
              "  </thead>\n",
              "  <tbody>\n",
              "    <tr>\n",
              "      <th>count</th>\n",
              "      <td>166654.000000</td>\n",
              "      <td>166654.000000</td>\n",
              "    </tr>\n",
              "    <tr>\n",
              "      <th>mean</th>\n",
              "      <td>139397.928463</td>\n",
              "      <td>34.774383</td>\n",
              "    </tr>\n",
              "    <tr>\n",
              "      <th>std</th>\n",
              "      <td>80553.281964</td>\n",
              "      <td>13.603909</td>\n",
              "    </tr>\n",
              "    <tr>\n",
              "      <th>min</th>\n",
              "      <td>2.000000</td>\n",
              "      <td>10.000000</td>\n",
              "    </tr>\n",
              "    <tr>\n",
              "      <th>25%</th>\n",
              "      <td>69916.250000</td>\n",
              "      <td>24.000000</td>\n",
              "    </tr>\n",
              "    <tr>\n",
              "      <th>50%</th>\n",
              "      <td>139358.000000</td>\n",
              "      <td>32.000000</td>\n",
              "    </tr>\n",
              "    <tr>\n",
              "      <th>75%</th>\n",
              "      <td>209146.750000</td>\n",
              "      <td>44.000000</td>\n",
              "    </tr>\n",
              "    <tr>\n",
              "      <th>max</th>\n",
              "      <td>278855.000000</td>\n",
              "      <td>99.000000</td>\n",
              "    </tr>\n",
              "  </tbody>\n",
              "</table>\n",
              "</div>\n",
              "    <div class=\"colab-df-buttons\">\n",
              "\n",
              "  <div class=\"colab-df-container\">\n",
              "    <button class=\"colab-df-convert\" onclick=\"convertToInteractive('df-1ea4856c-2374-4452-997f-029f060dd8e6')\"\n",
              "            title=\"Convert this dataframe to an interactive table.\"\n",
              "            style=\"display:none;\">\n",
              "\n",
              "  <svg xmlns=\"http://www.w3.org/2000/svg\" height=\"24px\" viewBox=\"0 -960 960 960\">\n",
              "    <path d=\"M120-120v-720h720v720H120Zm60-500h600v-160H180v160Zm220 220h160v-160H400v160Zm0 220h160v-160H400v160ZM180-400h160v-160H180v160Zm440 0h160v-160H620v160ZM180-180h160v-160H180v160Zm440 0h160v-160H620v160Z\"/>\n",
              "  </svg>\n",
              "    </button>\n",
              "\n",
              "  <style>\n",
              "    .colab-df-container {\n",
              "      display:flex;\n",
              "      gap: 12px;\n",
              "    }\n",
              "\n",
              "    .colab-df-convert {\n",
              "      background-color: #E8F0FE;\n",
              "      border: none;\n",
              "      border-radius: 50%;\n",
              "      cursor: pointer;\n",
              "      display: none;\n",
              "      fill: #1967D2;\n",
              "      height: 32px;\n",
              "      padding: 0 0 0 0;\n",
              "      width: 32px;\n",
              "    }\n",
              "\n",
              "    .colab-df-convert:hover {\n",
              "      background-color: #E2EBFA;\n",
              "      box-shadow: 0px 1px 2px rgba(60, 64, 67, 0.3), 0px 1px 3px 1px rgba(60, 64, 67, 0.15);\n",
              "      fill: #174EA6;\n",
              "    }\n",
              "\n",
              "    .colab-df-buttons div {\n",
              "      margin-bottom: 4px;\n",
              "    }\n",
              "\n",
              "    [theme=dark] .colab-df-convert {\n",
              "      background-color: #3B4455;\n",
              "      fill: #D2E3FC;\n",
              "    }\n",
              "\n",
              "    [theme=dark] .colab-df-convert:hover {\n",
              "      background-color: #434B5C;\n",
              "      box-shadow: 0px 1px 3px 1px rgba(0, 0, 0, 0.15);\n",
              "      filter: drop-shadow(0px 1px 2px rgba(0, 0, 0, 0.3));\n",
              "      fill: #FFFFFF;\n",
              "    }\n",
              "  </style>\n",
              "\n",
              "    <script>\n",
              "      const buttonEl =\n",
              "        document.querySelector('#df-1ea4856c-2374-4452-997f-029f060dd8e6 button.colab-df-convert');\n",
              "      buttonEl.style.display =\n",
              "        google.colab.kernel.accessAllowed ? 'block' : 'none';\n",
              "\n",
              "      async function convertToInteractive(key) {\n",
              "        const element = document.querySelector('#df-1ea4856c-2374-4452-997f-029f060dd8e6');\n",
              "        const dataTable =\n",
              "          await google.colab.kernel.invokeFunction('convertToInteractive',\n",
              "                                                    [key], {});\n",
              "        if (!dataTable) return;\n",
              "\n",
              "        const docLinkHtml = 'Like what you see? Visit the ' +\n",
              "          '<a target=\"_blank\" href=https://colab.research.google.com/notebooks/data_table.ipynb>data table notebook</a>'\n",
              "          + ' to learn more about interactive tables.';\n",
              "        element.innerHTML = '';\n",
              "        dataTable['output_type'] = 'display_data';\n",
              "        await google.colab.output.renderOutput(dataTable, element);\n",
              "        const docLink = document.createElement('div');\n",
              "        docLink.innerHTML = docLinkHtml;\n",
              "        element.appendChild(docLink);\n",
              "      }\n",
              "    </script>\n",
              "  </div>\n",
              "\n",
              "\n",
              "<div id=\"df-c7f05351-664c-4db5-9f7c-c178c12703c2\">\n",
              "  <button class=\"colab-df-quickchart\" onclick=\"quickchart('df-c7f05351-664c-4db5-9f7c-c178c12703c2')\"\n",
              "            title=\"Suggest charts\"\n",
              "            style=\"display:none;\">\n",
              "\n",
              "<svg xmlns=\"http://www.w3.org/2000/svg\" height=\"24px\"viewBox=\"0 0 24 24\"\n",
              "     width=\"24px\">\n",
              "    <g>\n",
              "        <path d=\"M19 3H5c-1.1 0-2 .9-2 2v14c0 1.1.9 2 2 2h14c1.1 0 2-.9 2-2V5c0-1.1-.9-2-2-2zM9 17H7v-7h2v7zm4 0h-2V7h2v10zm4 0h-2v-4h2v4z\"/>\n",
              "    </g>\n",
              "</svg>\n",
              "  </button>\n",
              "\n",
              "<style>\n",
              "  .colab-df-quickchart {\n",
              "      --bg-color: #E8F0FE;\n",
              "      --fill-color: #1967D2;\n",
              "      --hover-bg-color: #E2EBFA;\n",
              "      --hover-fill-color: #174EA6;\n",
              "      --disabled-fill-color: #AAA;\n",
              "      --disabled-bg-color: #DDD;\n",
              "  }\n",
              "\n",
              "  [theme=dark] .colab-df-quickchart {\n",
              "      --bg-color: #3B4455;\n",
              "      --fill-color: #D2E3FC;\n",
              "      --hover-bg-color: #434B5C;\n",
              "      --hover-fill-color: #FFFFFF;\n",
              "      --disabled-bg-color: #3B4455;\n",
              "      --disabled-fill-color: #666;\n",
              "  }\n",
              "\n",
              "  .colab-df-quickchart {\n",
              "    background-color: var(--bg-color);\n",
              "    border: none;\n",
              "    border-radius: 50%;\n",
              "    cursor: pointer;\n",
              "    display: none;\n",
              "    fill: var(--fill-color);\n",
              "    height: 32px;\n",
              "    padding: 0;\n",
              "    width: 32px;\n",
              "  }\n",
              "\n",
              "  .colab-df-quickchart:hover {\n",
              "    background-color: var(--hover-bg-color);\n",
              "    box-shadow: 0 1px 2px rgba(60, 64, 67, 0.3), 0 1px 3px 1px rgba(60, 64, 67, 0.15);\n",
              "    fill: var(--button-hover-fill-color);\n",
              "  }\n",
              "\n",
              "  .colab-df-quickchart-complete:disabled,\n",
              "  .colab-df-quickchart-complete:disabled:hover {\n",
              "    background-color: var(--disabled-bg-color);\n",
              "    fill: var(--disabled-fill-color);\n",
              "    box-shadow: none;\n",
              "  }\n",
              "\n",
              "  .colab-df-spinner {\n",
              "    border: 2px solid var(--fill-color);\n",
              "    border-color: transparent;\n",
              "    border-bottom-color: var(--fill-color);\n",
              "    animation:\n",
              "      spin 1s steps(1) infinite;\n",
              "  }\n",
              "\n",
              "  @keyframes spin {\n",
              "    0% {\n",
              "      border-color: transparent;\n",
              "      border-bottom-color: var(--fill-color);\n",
              "      border-left-color: var(--fill-color);\n",
              "    }\n",
              "    20% {\n",
              "      border-color: transparent;\n",
              "      border-left-color: var(--fill-color);\n",
              "      border-top-color: var(--fill-color);\n",
              "    }\n",
              "    30% {\n",
              "      border-color: transparent;\n",
              "      border-left-color: var(--fill-color);\n",
              "      border-top-color: var(--fill-color);\n",
              "      border-right-color: var(--fill-color);\n",
              "    }\n",
              "    40% {\n",
              "      border-color: transparent;\n",
              "      border-right-color: var(--fill-color);\n",
              "      border-top-color: var(--fill-color);\n",
              "    }\n",
              "    60% {\n",
              "      border-color: transparent;\n",
              "      border-right-color: var(--fill-color);\n",
              "    }\n",
              "    80% {\n",
              "      border-color: transparent;\n",
              "      border-right-color: var(--fill-color);\n",
              "      border-bottom-color: var(--fill-color);\n",
              "    }\n",
              "    90% {\n",
              "      border-color: transparent;\n",
              "      border-bottom-color: var(--fill-color);\n",
              "    }\n",
              "  }\n",
              "</style>\n",
              "\n",
              "  <script>\n",
              "    async function quickchart(key) {\n",
              "      const quickchartButtonEl =\n",
              "        document.querySelector('#' + key + ' button');\n",
              "      quickchartButtonEl.disabled = true;  // To prevent multiple clicks.\n",
              "      quickchartButtonEl.classList.add('colab-df-spinner');\n",
              "      try {\n",
              "        const charts = await google.colab.kernel.invokeFunction(\n",
              "            'suggestCharts', [key], {});\n",
              "      } catch (error) {\n",
              "        console.error('Error during call to suggestCharts:', error);\n",
              "      }\n",
              "      quickchartButtonEl.classList.remove('colab-df-spinner');\n",
              "      quickchartButtonEl.classList.add('colab-df-quickchart-complete');\n",
              "    }\n",
              "    (() => {\n",
              "      let quickchartButtonEl =\n",
              "        document.querySelector('#df-c7f05351-664c-4db5-9f7c-c178c12703c2 button');\n",
              "      quickchartButtonEl.style.display =\n",
              "        google.colab.kernel.accessAllowed ? 'block' : 'none';\n",
              "    })();\n",
              "  </script>\n",
              "</div>\n",
              "    </div>\n",
              "  </div>\n"
            ]
          },
          "metadata": {},
          "execution_count": 24
        }
      ]
    },
    {
      "cell_type": "code",
      "source": [
        "bins = [10, 24, 39, 54, 99]\n",
        "labels = ['10-24', '25-39', '40-54', '55-99']\n",
        "users['Age_Group'] = pd.cut(users['Age'], bins=bins, labels=labels)\n",
        "sns.countplot(x='Age_Group', data=users, order=labels)\n",
        "\n",
        "# Adding labels and title\n",
        "plt.xlabel('Age Group')\n",
        "plt.ylabel('Count')\n",
        "plt.title('Distribution of Age Groups')\n",
        "\n",
        "# Display the plot\n",
        "plt.show()"
      ],
      "metadata": {
        "colab": {
          "base_uri": "https://localhost:8080/",
          "height": 472
        },
        "id": "Rd_b4Ce7rdCA",
        "outputId": "a5671c63-b8c0-4b98-9190-7e1cf5af06d8"
      },
      "execution_count": 25,
      "outputs": [
        {
          "output_type": "display_data",
          "data": {
            "text/plain": [
              "<Figure size 640x480 with 1 Axes>"
            ],
            "image/png": "[encoded data removed]"
          },
          "metadata": {}
        }
      ]
    },
    {
      "cell_type": "markdown",
      "source": [
        "The most reading group is 25-39 years."
      ],
      "metadata": {
        "id": "Ue5Yc8fws--D"
      }
    },
    {
      "cell_type": "markdown",
      "source": [
        "**Analyzing and cleaning RATINGS Dataset**\n",
        "1. Visualizing interceptions between users in Ratings and Users dataset.\n",
        "2. Visualizing interceptions between ISBN(as bookID) in Ratings and Books dataset.\n",
        "3. Correcting Rating size.\n",
        "4. Analyzing ratings scope. Dropping ratings =0\n",
        "5. Understanding some facts about rated books and authors."
      ],
      "metadata": {
        "id": "Lkk7x_ZwGCXl"
      }
    },
    {
      "cell_type": "code",
      "source": [
        "print('ratings:\\n', ratings.dtypes)\n",
        "#ratings.describe()"
      ],
      "metadata": {
        "colab": {
          "base_uri": "https://localhost:8080/"
        },
        "id": "-ZK5Bt2Eu5bT",
        "outputId": "ffa7c057-f4c3-41f8-fd35-521621cb5591"
      },
      "execution_count": 26,
      "outputs": [
        {
          "output_type": "stream",
          "name": "stdout",
          "text": [
            "ratings:\n",
            " UserID     int64\n",
            "ISBN      object\n",
            "Rating     int64\n",
            "dtype: object\n"
          ]
        }
      ]
    },
    {
      "cell_type": "code",
      "source": [
        "print('unique Users in Rating dataset: ',ratings['UserID'].nunique())\n",
        "print('unique Users in Users dataset: ',users['UserID'].nunique())"
      ],
      "metadata": {
        "colab": {
          "base_uri": "https://localhost:8080/"
        },
        "id": "w8mLji1uwxB_",
        "outputId": "9b7a32c9-492e-4d71-d114-1259af76030b"
      },
      "execution_count": 27,
      "outputs": [
        {
          "output_type": "stream",
          "name": "stdout",
          "text": [
            "unique Users in Rating dataset:  105283\n",
            "unique Users in Users dataset:  166654\n"
          ]
        }
      ]
    },
    {
      "cell_type": "code",
      "source": [
        "# Get unique UserIDs from each database\n",
        "ratings_user_ids = set(ratings['UserID'])\n",
        "users_user_ids = set(users['UserID'])\n",
        "\n",
        "# Create a Venn diagram for the intersection\n",
        "venn_diagram = venn2([ratings_user_ids, users_user_ids], set_labels=('Ratings UserIDs', 'Users UserIDs'))\n",
        "\n",
        "# Add labels to the circles\n",
        "venn_diagram.get_label_by_id('10').set_text(f\"Ratings: {len(ratings_user_ids)}\")\n",
        "venn_diagram.get_label_by_id('01').set_text(f\"Users: {len(users_user_ids)}\")\n",
        "venn_diagram.get_label_by_id('11').set_text(f\"Intersection: {len(ratings_user_ids.intersection(users_user_ids))}\")\n",
        "\n",
        "# Show the plot\n",
        "plt.show()\n"
      ],
      "metadata": {
        "colab": {
          "base_uri": "https://localhost:8080/",
          "height": 407
        },
        "id": "_SAuh0a7z-vZ",
        "outputId": "35f4ad15-82c7-4358-d2e5-70eff7077275"
      },
      "execution_count": 28,
      "outputs": [
        {
          "output_type": "display_data",
          "data": {
            "text/plain": [
              "<Figure size 640x480 with 1 Axes>"
            ],
            "image/png": "[encoded data removed]"
          },
          "metadata": {}
        }
      ]
    },
    {
      "cell_type": "code",
      "source": [
        "books.info()"
      ],
      "metadata": {
        "colab": {
          "base_uri": "https://localhost:8080/"
        },
        "id": "Mx4Gvbw61lu1",
        "outputId": "8281cb07-a85e-4dec-ab96-ab4b81de0d9a"
      },
      "execution_count": 29,
      "outputs": [
        {
          "output_type": "stream",
          "name": "stdout",
          "text": [
            "<class 'pandas.core.frame.DataFrame'>\n",
            "Int64Index: 271359 entries, 0 to 271359\n",
            "Data columns (total 5 columns):\n",
            " #   Column     Non-Null Count   Dtype \n",
            "---  ------     --------------   ----- \n",
            " 0   ISBN       271359 non-null  object\n",
            " 1   Title      271359 non-null  object\n",
            " 2   Author     271359 non-null  object\n",
            " 3   PublYear   271359 non-null  int64 \n",
            " 4   Publisher  271359 non-null  object\n",
            "dtypes: int64(1), object(4)\n",
            "memory usage: 20.5+ MB\n"
          ]
        }
      ]
    },
    {
      "cell_type": "code",
      "source": [
        "# Get unique ISBNs from each database\n",
        "ratings_isbns = set(ratings['ISBN'])\n",
        "books_isbns = set(books['ISBN'])\n",
        "\n",
        "# Create a Venn diagram for the intersection\n",
        "venn_diagram_books = venn2([ratings_isbns, books_isbns], set_labels=('Ratings ISBNs', 'Books ISBNs'))\n",
        "\n",
        "# Add labels to the circles\n",
        "venn_diagram_books.get_label_by_id('10').set_text(f\"Ratings: {len(ratings_isbns)}\")\n",
        "venn_diagram_books.get_label_by_id('01').set_text(f\"Books: {len(books_isbns)}\")\n",
        "venn_diagram_books.get_label_by_id('11').set_text(f\"Intersection: {len(ratings_isbns.intersection(books_isbns))}\")\n",
        "\n",
        "# Show the plot\n",
        "plt.show()\n"
      ],
      "metadata": {
        "colab": {
          "base_uri": "https://localhost:8080/",
          "height": 411
        },
        "outputId": "d5039278-7234-42e6-c8c7-2eeda31f97d4",
        "id": "egGo_gEf1tCi"
      },
      "execution_count": 30,
      "outputs": [
        {
          "output_type": "display_data",
          "data": {
            "text/plain": [
              "<Figure size 640x480 with 1 Axes>"
            ],
            "image/png": "[encoded data removed]"
          },
          "metadata": {}
        }
      ]
    },
    {
      "cell_type": "code",
      "source": [
        "ratings_intersected = ratings[ratings.ISBN.isin(books.ISBN)]\n",
        "ratings_intersected.shape\n"
      ],
      "metadata": {
        "colab": {
          "base_uri": "https://localhost:8080/"
        },
        "id": "DWUIZ_M02v3j",
        "outputId": "721650e4-798c-4985-aa0b-316e30b59761"
      },
      "execution_count": 31,
      "outputs": [
        {
          "output_type": "execute_result",
          "data": {
            "text/plain": [
              "(1031135, 3)"
            ]
          },
          "metadata": {},
          "execution_count": 31
        }
      ]
    },
    {
      "cell_type": "code",
      "source": [
        "ratings_intersected_users = ratings_intersected[ratings_intersected.UserID.isin(users.UserID)]\n",
        "ratings_intersected_users['UserID'].nunique()"
      ],
      "metadata": {
        "colab": {
          "base_uri": "https://localhost:8080/"
        },
        "id": "7-5ef2HtQ4Nw",
        "outputId": "db645afe-58e9-486e-ddb5-a28faa4f378b"
      },
      "execution_count": 32,
      "outputs": [
        {
          "output_type": "execute_result",
          "data": {
            "text/plain": [
              "53407"
            ]
          },
          "metadata": {},
          "execution_count": 32
        }
      ]
    },
    {
      "cell_type": "code",
      "source": [
        "# Display unique values in the \"Rating\" column\n",
        "unique_ratings = ratings_intersected['Rating'].unique()\n",
        "print(\"Unique Ratings:\", unique_ratings)\n"
      ],
      "metadata": {
        "colab": {
          "base_uri": "https://localhost:8080/"
        },
        "id": "QZcs6LekK8l_",
        "outputId": "01556983-4088-42b6-be77-7ad21cb05762"
      },
      "execution_count": 33,
      "outputs": [
        {
          "output_type": "stream",
          "name": "stdout",
          "text": [
            "Unique Ratings: [ 0  5  3  6  7  9  8 10  1  4  2]\n"
          ]
        }
      ]
    },
    {
      "cell_type": "code",
      "source": [
        "# Bar diagram\n",
        "plt.figure(figsize=(10, 6))\n",
        "sns.countplot(x='Rating', data=ratings, palette='viridis')\n",
        "\n",
        "plt.title('Number of ratings')\n",
        "plt.xlabel('Rating')\n",
        "plt.ylabel('Quantity')\n",
        "\n",
        "plt.show()"
      ],
      "metadata": {
        "colab": {
          "base_uri": "https://localhost:8080/",
          "height": 564
        },
        "id": "Nuj3Y0yvwdnd",
        "outputId": "dc376afa-c0f7-4b6f-a217-3e4641a9aed8"
      },
      "execution_count": 34,
      "outputs": [
        {
          "output_type": "display_data",
          "data": {
            "text/plain": [
              "<Figure size 1000x600 with 1 Axes>"
            ],
            "image/png": "[encoded data removed]"
          },
          "metadata": {}
        }
      ]
    },
    {
      "cell_type": "code",
      "source": [
        "rating_counts = ratings['Rating'].value_counts().sort_index()\n",
        "\n",
        "# transfer into list\n",
        "rating_list = rating_counts.tolist()\n",
        "\n",
        "print(rating_list)"
      ],
      "metadata": {
        "colab": {
          "base_uri": "https://localhost:8080/"
        },
        "id": "iVo9t4MYxZRR",
        "outputId": "4da361a7-6afa-4153-f73d-686c3fd3c2c0"
      },
      "execution_count": 35,
      "outputs": [
        {
          "output_type": "stream",
          "name": "stdout",
          "text": [
            "[716109, 1770, 2759, 5996, 8904, 50974, 36924, 76457, 103736, 67541, 78610]\n"
          ]
        }
      ]
    },
    {
      "cell_type": "code",
      "source": [
        "ratings_cleaned = ratings_intersected[ratings_intersected['Rating'] != 0]\n",
        "#print(ratings_cleaned)\n"
      ],
      "metadata": {
        "id": "js-iolBf1GzL"
      },
      "execution_count": 36,
      "outputs": []
    },
    {
      "cell_type": "code",
      "source": [
        "ratings_cleaned.info()"
      ],
      "metadata": {
        "colab": {
          "base_uri": "https://localhost:8080/"
        },
        "id": "LQC7gXEgCzyM",
        "outputId": "04152597-fbe2-48b7-f01c-94285a4fb3c5"
      },
      "execution_count": 37,
      "outputs": [
        {
          "output_type": "stream",
          "name": "stdout",
          "text": [
            "<class 'pandas.core.frame.DataFrame'>\n",
            "Int64Index: 383841 entries, 1 to 1149778\n",
            "Data columns (total 3 columns):\n",
            " #   Column  Non-Null Count   Dtype \n",
            "---  ------  --------------   ----- \n",
            " 0   UserID  383841 non-null  int64 \n",
            " 1   ISBN    383841 non-null  object\n",
            " 2   Rating  383841 non-null  int64 \n",
            "dtypes: int64(2), object(1)\n",
            "memory usage: 11.7+ MB\n"
          ]
        }
      ]
    },
    {
      "cell_type": "code",
      "source": [
        "duplicate_ratings = ratings_cleaned.duplicated(subset=['UserID', 'ISBN', 'Rating'])\n",
        "print(\"Duplicates quantity in Ratings:\", duplicate_ratings.sum())\n",
        "duplicate_users = users.duplicated(subset=['UserID'])\n",
        "print(\"Duplicates quantity in Users:\", duplicate_users.sum())\n",
        "duplicate_books = books.duplicated(subset=['ISBN'])\n",
        "print(\"Duplicates quantity in Books:\", duplicate_books.sum())\n",
        "\n"
      ],
      "metadata": {
        "colab": {
          "base_uri": "https://localhost:8080/"
        },
        "id": "z9LkBqhgyupy",
        "outputId": "c1cea6b7-4c2d-45ef-95bd-383e72381acf"
      },
      "execution_count": 244,
      "outputs": [
        {
          "output_type": "stream",
          "name": "stdout",
          "text": [
            "Duplicates quantity in Ratings: 0\n",
            "Duplicates quantity in Users: 0\n",
            "Duplicates quantity in Books: 0\n"
          ]
        }
      ]
    },
    {
      "cell_type": "markdown",
      "source": [
        "Users in final ratings dataset"
      ],
      "metadata": {
        "id": "Maut-Lmhwmvp"
      }
    },
    {
      "cell_type": "code",
      "source": [
        "common_users = users[users['UserID'].isin(ratings_cleaned['UserID'])]\n",
        "print(\"Users in rating_cleaned: \",common_users.shape)\n"
      ],
      "metadata": {
        "colab": {
          "base_uri": "https://localhost:8080/"
        },
        "id": "7u38H0vkQogz",
        "outputId": "d33286cd-5d59-4035-842a-8cd141b03384"
      },
      "execution_count": 38,
      "outputs": [
        {
          "output_type": "stream",
          "name": "stdout",
          "text": [
            "Users in rating_cleaned:  (40184, 4)\n"
          ]
        }
      ]
    },
    {
      "cell_type": "code",
      "source": [
        "# Using  value_counts() to get spreading of values in columns 'UserID'and 'ISBN'\n",
        "user_counts = ratings_cleaned['UserID'].value_counts()\n",
        "book_counts = ratings_cleaned['ISBN'].value_counts()\n",
        "\n",
        "print(\"Spreading of users:\")\n",
        "print(user_counts)\n",
        "\n",
        "print(\"\\nSpreading of books:\")\n",
        "print(book_counts)"
      ],
      "metadata": {
        "colab": {
          "base_uri": "https://localhost:8080/"
        },
        "id": "Z4DWsDdz31rG",
        "outputId": "206a21e6-ae54-4e23-8872-a48b08e39594"
      },
      "execution_count": 39,
      "outputs": [
        {
          "output_type": "stream",
          "name": "stdout",
          "text": [
            "Spreading of users:\n",
            "11676     6943\n",
            "98391     5691\n",
            "189835    1899\n",
            "153662    1845\n",
            "23902     1180\n",
            "          ... \n",
            "114767       1\n",
            "114771       1\n",
            "114772       1\n",
            "114777       1\n",
            "276721       1\n",
            "Name: UserID, Length: 68091, dtype: int64\n",
            "\n",
            "Spreading of books:\n",
            "0316666343    707\n",
            "0971880107    581\n",
            "0385504209    487\n",
            "0312195516    383\n",
            "0060928336    320\n",
            "             ... \n",
            "840804978X      1\n",
            "8408020854      1\n",
            "355175537X      1\n",
            "3551755361      1\n",
            "0806917695      1\n",
            "Name: ISBN, Length: 149835, dtype: int64\n"
          ]
        }
      ]
    },
    {
      "cell_type": "code",
      "source": [
        "# Groop by  UserID and count rated books\n",
        "user_book_counts = ratings_cleaned.groupby('UserID')['ISBN'].count()\n",
        "user_book_counts_sorted = user_book_counts.sort_values(ascending=False)\n",
        "\n",
        "print(user_book_counts_sorted)"
      ],
      "metadata": {
        "colab": {
          "base_uri": "https://localhost:8080/"
        },
        "id": "gSrNgJm1wmgB",
        "outputId": "5d9884d5-e46b-4cb4-a99a-14dda3f5e9df"
      },
      "execution_count": 40,
      "outputs": [
        {
          "output_type": "stream",
          "name": "stdout",
          "text": [
            "UserID\n",
            "11676     6943\n",
            "98391     5691\n",
            "189835    1899\n",
            "153662    1845\n",
            "23902     1180\n",
            "          ... \n",
            "135659       1\n",
            "135660       1\n",
            "135677       1\n",
            "135684       1\n",
            "138845       1\n",
            "Name: ISBN, Length: 68091, dtype: int64\n"
          ]
        }
      ]
    },
    {
      "cell_type": "code",
      "source": [
        "# Building  histogram distribution of rated books\n",
        "plt.figure(figsize=(15, 5))\n",
        "plt.hist(user_book_counts, bins=[0, 100, 200, 500, max(user_book_counts)], color='skyblue', edgecolor='black')\n",
        "plt.xlabel('Number of rated books ')\n",
        "plt.ylabel('Number of users')\n",
        "plt.title('Distribution of rated books')\n",
        "plt.xticks([0, 100, 200, 500, max(user_book_counts)])\n",
        "plt.show()"
      ],
      "metadata": {
        "colab": {
          "base_uri": "https://localhost:8080/",
          "height": 398
        },
        "id": "pPBmOKsb3-ZA",
        "outputId": "49097e9f-9f53-4a6f-8a91-1a157f17b25c"
      },
      "execution_count": 41,
      "outputs": [
        {
          "output_type": "display_data",
          "data": {
            "text/plain": [
              "<Figure size 1500x500 with 1 Axes>"
            ],
            "image/png": "[encoded data removed]"
          },
          "metadata": {}
        }
      ]
    },
    {
      "cell_type": "code",
      "source": [
        "# Let's see the distribution within 1000 books, cutting off the outliers\n",
        "user_book_counts_filtered = user_book_counts[user_book_counts <= 1000]\n",
        "\n",
        "#Building histogram of disctribution quantity of rated books\n",
        "plt.figure(figsize=(10, 5))\n",
        "plt.hist(user_book_counts_filtered, bins=[50, 100, 200, 500, 1000], color='skyblue', edgecolor='black')\n",
        "plt.xlabel('Number of rated books ')\n",
        "plt.ylabel('Number of users')\n",
        "plt.title('Distribution of rated books (50, 100, 200, 500, 1000)')\n",
        "plt.xticks([50, 100, 200, 500, 1000])\n",
        "plt.show()"
      ],
      "metadata": {
        "colab": {
          "base_uri": "https://localhost:8080/",
          "height": 487
        },
        "id": "p1ez6RpK5EVO",
        "outputId": "2110d21b-d3bc-444e-a251-b870e001c8b6"
      },
      "execution_count": 42,
      "outputs": [
        {
          "output_type": "display_data",
          "data": {
            "text/plain": [
              "<Figure size 1000x500 with 1 Axes>"
            ],
            "image/png": "[encoded data removed]"
          },
          "metadata": {}
        }
      ]
    },
    {
      "cell_type": "markdown",
      "source": [
        "**Decreasing book quantity**"
      ],
      "metadata": {
        "id": "m-PTAoXMDuTU"
      }
    },
    {
      "cell_type": "code",
      "source": [
        "\n",
        "# taking users,who rated at least 20 books\n",
        "users_with_20_or_more_books = user_book_counts[user_book_counts >= 20].index\n",
        "\n",
        "# filter data DF for chosen users\n",
        "ratings_cleaned_filtered = ratings_cleaned[ratings_cleaned['UserID'].isin(users_with_20_or_more_books)]\n",
        "ratings_cleaned_filtered.head"
      ],
      "metadata": {
        "colab": {
          "base_uri": "https://localhost:8080/"
        },
        "id": "H-IJN7Va88yz",
        "outputId": "910224d1-779d-4054-ea86-e91b8fa31b3b"
      },
      "execution_count": 43,
      "outputs": [
        {
          "output_type": "execute_result",
          "data": {
            "text/plain": [
              "<bound method NDFrame.head of          UserID        ISBN  Rating\n",
              "176      276847  3404145909       8\n",
              "177      276847  3404148576       8\n",
              "178      276847  3404921178       7\n",
              "179      276847  3423071516      10\n",
              "184      276847  3426671298       8\n",
              "...         ...         ...     ...\n",
              "1149743  276688  0836218655      10\n",
              "1149744  276688  0836236688      10\n",
              "1149745  276688  0892966548      10\n",
              "1149746  276688  1551669315       6\n",
              "1149747  276688  1575660792       7\n",
              "\n",
              "[217728 rows x 3 columns]>"
            ]
          },
          "metadata": {},
          "execution_count": 43
        }
      ]
    },
    {
      "cell_type": "code",
      "source": [
        "ratings_cleaned_filtered['UserID'].nunique()"
      ],
      "metadata": {
        "colab": {
          "base_uri": "https://localhost:8080/"
        },
        "id": "Xu98a2VxTATr",
        "outputId": "16903470-5643-4c9f-94cc-a4aad3e82777"
      },
      "execution_count": 44,
      "outputs": [
        {
          "output_type": "execute_result",
          "data": {
            "text/plain": [
              "3305"
            ]
          },
          "metadata": {},
          "execution_count": 44
        }
      ]
    },
    {
      "cell_type": "code",
      "source": [
        "# count book quantity for each author\n",
        "author_books_count = books['Author'].value_counts().reset_index()\n",
        "author_books_count.columns = ['Author', 'BookCount']\n",
        "\n",
        "# top 1000 authors with max books\n",
        "top_authors = author_books_count.nlargest(1000, 'BookCount')\n",
        "\n",
        "# Merging books and ratings\n",
        "merged_data = pd.merge(ratings, books, on='ISBN', how='left')\n",
        "\n",
        "# filter top 1000 authors\n",
        "top_authors_data = merged_data[merged_data['Author'].isin(top_authors['Author'])]\n",
        "\n",
        "# group by autholr and aggregate average rating, total q-ty of ratings and total q-ty of books\n",
        "authors_ratings = top_authors_data.groupby('Author').agg({\n",
        "    'Rating': ['mean', 'count'],\n",
        "    'ISBN': 'nunique'  # Общее количество уникальных книг\n",
        "}).reset_index()\n",
        "\n",
        "# Rename columns\n",
        "authors_ratings.columns = ['Author', 'AverageRating', 'TotalRatings', 'TotalBooks']\n",
        "\n",
        "print(authors_ratings)\n"
      ],
      "metadata": {
        "colab": {
          "base_uri": "https://localhost:8080/"
        },
        "id": "VixiMB2CA14z",
        "outputId": "c41284e9-1dbb-4f7f-cde8-13e55c407d50"
      },
      "execution_count": 45,
      "outputs": [
        {
          "output_type": "stream",
          "name": "stdout",
          "text": [
            "                    Author  AverageRating  TotalRatings  TotalBooks\n",
            "0              A. A. Milne       3.956835           139          46\n",
            "1          Agatha Christie       2.862201          2344         631\n",
            "2             Aimee Thurlo       2.207921           101          35\n",
            "3         Alan Dean Foster       2.324910           554         128\n",
            "4             Albert Camus       3.781116           233          51\n",
            "..                     ...            ...           ...         ...\n",
            "995     William X. Kienzle       1.244681            94          31\n",
            "996      Wolfgang Hohlbein       3.551136           176          61\n",
            "997          Yukio Mishima       4.586667            75          35\n",
            "998              Zane Grey       1.043011            93          69\n",
            "999  Zilpha Keatley Snyder       3.198276           116          29\n",
            "\n",
            "[1000 rows x 4 columns]\n"
          ]
        }
      ]
    },
    {
      "cell_type": "code",
      "source": [
        "# Sort authors by books quantity descending\n",
        "top_authors_books = authors_ratings.nlargest(30, 'TotalBooks')\n",
        "\n",
        "# top 30 authors with max books quantity\n",
        "plt.figure(figsize=(12, 6))\n",
        "sns.barplot(x='Author', y='TotalBooks', data=top_authors_books, palette='viridis')\n",
        "plt.title('Top 30 authors with max books quantity')\n",
        "plt.xlabel('Author')\n",
        "plt.ylabel('Total book quantity')\n",
        "plt.xticks(rotation=45, ha='right')\n",
        "plt.show()\n",
        "\n",
        "# sort authors by average rating descending\n",
        "top_authors_ratings = authors_ratings.nlargest(30, 'AverageRating')\n",
        "\n",
        "#\n",
        "plt.figure(figsize=(12, 6))\n",
        "sns.barplot(x='Author', y='AverageRating', data=top_authors_ratings, palette='magma')\n",
        "plt.title('Top 30 authors with max ratings')\n",
        "plt.xlabel('Author')\n",
        "plt.ylabel('Average rating')\n",
        "plt.xticks(rotation=45, ha='right')\n",
        "plt.show()"
      ],
      "metadata": {
        "colab": {
          "base_uri": "https://localhost:8080/",
          "height": 1000
        },
        "id": "xvtloX96Bfqh",
        "outputId": "6b43386a-d32c-403e-d365-a418693c744a"
      },
      "execution_count": 46,
      "outputs": [
        {
          "output_type": "display_data",
          "data": {
            "text/plain": [
              "<Figure size 1200x600 with 1 Axes>"
            ],
            "image/png": "[encoded data removed]"
          },
          "metadata": {}
        },
        {
          "output_type": "display_data",
          "data": {
            "text/plain": [
              "<Figure size 1200x600 with 1 Axes>"
            ],
            "image/png": "[encoded data removed]"
          },
          "metadata": {}
        }
      ]
    },
    {
      "cell_type": "code",
      "source": [
        "# Bar diagram\n",
        "plt.figure(figsize=(10, 6))\n",
        "sns.countplot(x='Rating', data=ratings_cleaned_filtered, palette='magma')\n",
        "\n",
        "plt.title('Number of ratings')\n",
        "plt.xlabel('Rating')\n",
        "plt.ylabel('Quantity')\n",
        "\n",
        "plt.show()"
      ],
      "metadata": {
        "colab": {
          "base_uri": "https://localhost:8080/",
          "height": 564
        },
        "id": "ZAiCo1ga7PLo",
        "outputId": "0acaf2a9-ec24-4f6d-8083-05ef3090190a"
      },
      "execution_count": 55,
      "outputs": [
        {
          "output_type": "display_data",
          "data": {
            "text/plain": [
              "<Figure size 1000x600 with 1 Axes>"
            ],
            "image/png": "[encoded data removed]"
          },
          "metadata": {}
        }
      ]
    },
    {
      "cell_type": "markdown",
      "source": [
        "**RECOMENDATION SYSTEM**"
      ],
      "metadata": {
        "id": "JlaEdDIvu35S"
      }
    },
    {
      "cell_type": "markdown",
      "source": [
        "** SVD Analyze**\n",
        "1. Merging datasets, split data into training /test sets.\n",
        "2. Creating model, Evaluating model on test set.\n",
        "3. Making a prediction for definite customer. Analyzing the result.\n"
      ],
      "metadata": {
        "id": "pC-BOvqQjQL1"
      }
    },
    {
      "cell_type": "code",
      "source": [
        "!pip install scikit-surprise\n",
        "from sklearn.model_selection import train_test_split\n",
        "from sklearn.metrics import precision_score\n",
        "from scipy.sparse import csr_matrix\n",
        "from surprise import Dataset, Reader, SVD\n",
        "from surprise.model_selection import cross_validate\n",
        "from surprise import accuracy\n"
      ],
      "metadata": {
        "colab": {
          "base_uri": "https://localhost:8080/"
        },
        "outputId": "9a90d174-a89a-4dc8-a68d-867259df3bbb",
        "id": "OdghNUw9mga_"
      },
      "execution_count": 254,
      "outputs": [
        {
          "output_type": "stream",
          "name": "stdout",
          "text": [
            "Requirement already satisfied: scikit-surprise in /usr/local/lib/python3.10/dist-packages (1.1.3)\n",
            "Requirement already satisfied: joblib>=1.0.0 in /usr/local/lib/python3.10/dist-packages (from scikit-surprise) (1.3.2)\n",
            "Requirement already satisfied: numpy>=1.17.3 in /usr/local/lib/python3.10/dist-packages (from scikit-surprise) (1.23.5)\n",
            "Requirement already satisfied: scipy>=1.3.2 in /usr/local/lib/python3.10/dist-packages (from scikit-surprise) (1.11.3)\n"
          ]
        }
      ]
    },
    {
      "cell_type": "code",
      "source": [
        "# Merging datasets\n",
        "data = pd.merge(ratings_cleaned_filtered, users, on='UserID')\n",
        "data = pd.merge(data, books, on='ISBN')\n",
        "data.info()"
      ],
      "metadata": {
        "colab": {
          "base_uri": "https://localhost:8080/"
        },
        "id": "1UB_O4cXxYml",
        "outputId": "43357ee6-2d4a-4190-f23b-2012a4686a44"
      },
      "execution_count": 255,
      "outputs": [
        {
          "output_type": "stream",
          "name": "stdout",
          "text": [
            "<class 'pandas.core.frame.DataFrame'>\n",
            "Int64Index: 161588 entries, 0 to 161587\n",
            "Data columns (total 10 columns):\n",
            " #   Column     Non-Null Count   Dtype   \n",
            "---  ------     --------------   -----   \n",
            " 0   UserID     161588 non-null  int64   \n",
            " 1   ISBN       161588 non-null  object  \n",
            " 2   Rating     161588 non-null  int64   \n",
            " 3   Location   161588 non-null  object  \n",
            " 4   Age        161588 non-null  int64   \n",
            " 5   Age_Group  161567 non-null  category\n",
            " 6   Title      161588 non-null  object  \n",
            " 7   Author     161588 non-null  object  \n",
            " 8   PublYear   161588 non-null  int64   \n",
            " 9   Publisher  161588 non-null  object  \n",
            "dtypes: category(1), int64(4), object(5)\n",
            "memory usage: 12.5+ MB\n"
          ]
        }
      ]
    },
    {
      "cell_type": "code",
      "source": [
        "print('Unique books in dataset:',data['ISBN'].nunique())\n",
        "print('Unique users in dataset:',data['UserID'].nunique())\n"
      ],
      "metadata": {
        "colab": {
          "base_uri": "https://localhost:8080/"
        },
        "id": "9aS8clRO8H6w",
        "outputId": "3df1d6dc-c230-49fc-f9fc-822cde492a19"
      },
      "execution_count": 256,
      "outputs": [
        {
          "output_type": "stream",
          "name": "stdout",
          "text": [
            "Unique books in dataset: 86755\n",
            "Unique users in dataset: 2515\n"
          ]
        }
      ]
    },
    {
      "cell_type": "code",
      "source": [
        "train_data, test_data = train_test_split(data, test_size=0.2, random_state=42)\n"
      ],
      "metadata": {
        "id": "Az-_IHH7mS5x"
      },
      "execution_count": 257,
      "outputs": []
    },
    {
      "cell_type": "code",
      "source": [
        "# creating matrix for train_data\n",
        "train_matrix = csr_matrix(pd.pivot_table(train_data, values='Rating', index='UserID', columns='ISBN').fillna(0))\n",
        "\n",
        "# creating matrix for test_data\n",
        "test_matrix = csr_matrix(pd.pivot_table(test_data, values='Rating', index='UserID', columns='ISBN').fillna(0))\n"
      ],
      "metadata": {
        "id": "VlXo9E_4oSdk"
      },
      "execution_count": 258,
      "outputs": []
    },
    {
      "cell_type": "code",
      "source": [
        "# creating object Reader\n",
        "reader = Reader(rating_scale=(1, 10))\n",
        "\n",
        "# creating data for Surprise\n",
        "train_data_surprise = Dataset.load_from_df(train_data[['UserID', 'ISBN', 'Rating']], reader)\n",
        "\n",
        "# Using SVD to teach model\n",
        "model = SVD()\n",
        "cross_validate(model, train_data_surprise, measures=['RMSE', 'MAE'], cv=5, verbose=True)\n"
      ],
      "metadata": {
        "colab": {
          "base_uri": "https://localhost:8080/"
        },
        "id": "LRIwvin9ocei",
        "outputId": "e01fb045-c6a9-43f5-bdd0-0d49e09585f8"
      },
      "execution_count": 259,
      "outputs": [
        {
          "output_type": "stream",
          "name": "stdout",
          "text": [
            "Evaluating RMSE, MAE of algorithm SVD on 5 split(s).\n",
            "\n",
            "                  Fold 1  Fold 2  Fold 3  Fold 4  Fold 5  Mean    Std     \n",
            "RMSE (testset)    1.5011  1.5285  1.5158  1.5181  1.5298  1.5187  0.0104  \n",
            "MAE (testset)     1.1521  1.1682  1.1563  1.1579  1.1686  1.1606  0.0066  \n",
            "Fit time          7.82    4.26    2.78    4.05    2.78    4.34    1.85    \n",
            "Test time         0.37    0.18    0.53    0.51    0.17    0.35    0.16    \n"
          ]
        },
        {
          "output_type": "execute_result",
          "data": {
            "text/plain": [
              "{'test_rmse': array([1.50111622, 1.52854944, 1.5157632 , 1.51805339, 1.52978895]),\n",
              " 'test_mae': array([1.15207764, 1.16821078, 1.15628744, 1.15787194, 1.16863117]),\n",
              " 'fit_time': (7.820927143096924,\n",
              "  4.2603538036346436,\n",
              "  2.77508282661438,\n",
              "  4.050316095352173,\n",
              "  2.7819790840148926),\n",
              " 'test_time': (0.3706996440887451,\n",
              "  0.1757051944732666,\n",
              "  0.5272717475891113,\n",
              "  0.5103249549865723,\n",
              "  0.16955828666687012)}"
            ]
          },
          "metadata": {},
          "execution_count": 259
        }
      ]
    },
    {
      "cell_type": "code",
      "source": [
        "# teach model on the training data\n",
        "trainset = train_data_surprise.build_full_trainset()\n",
        "model.fit(trainset)\n",
        "\n",
        "# Get predictions for test data Получение предсказаний для тестового набора\n",
        "testset = [(row['UserID'], row['ISBN'], row['Rating']) for index, row in test_data.iterrows()]\n",
        "predictions = model.test(testset)\n",
        "\n",
        "# Evaluate model\n",
        "accuracy.rmse(predictions)\n"
      ],
      "metadata": {
        "colab": {
          "base_uri": "https://localhost:8080/"
        },
        "id": "m5MX00Z3ppw-",
        "outputId": "d77fc2dd-e7be-4f8c-acf0-0e8fa76ece2c"
      },
      "execution_count": 260,
      "outputs": [
        {
          "output_type": "stream",
          "name": "stdout",
          "text": [
            "RMSE: 1.5166\n"
          ]
        },
        {
          "output_type": "execute_result",
          "data": {
            "text/plain": [
              "1.5165980522496034"
            ]
          },
          "metadata": {},
          "execution_count": 260
        }
      ]
    },
    {
      "cell_type": "code",
      "source": [
        "# Assuming 'predictions' is the list of Prediction objects\n",
        "predictions_subset = predictions[:100]\n",
        "\n",
        "# Create a list of lists for tabulation\n",
        "table_data = [\n",
        "    [\"User ID\", \"Item ID\", \"Actual Rating\", \"Estimated Rating\"]\n",
        "]\n",
        "\n",
        "for prediction in predictions_subset:\n",
        "    row = [prediction.uid, prediction.iid, prediction.r_ui, prediction.est]\n",
        "    table_data.append(row)\n",
        "\n",
        "# Print the list of lists\n",
        "for row in table_data:\n",
        "    print(row)\n"
      ],
      "metadata": {
        "colab": {
          "base_uri": "https://localhost:8080/"
        },
        "id": "__n2QJB6BgBZ",
        "outputId": "166281ae-030c-415b-92ff-d7c06871f11e"
      },
      "execution_count": 261,
      "outputs": [
        {
          "output_type": "stream",
          "name": "stdout",
          "text": [
            "['User ID', 'Item ID', 'Actual Rating', 'Estimated Rating']\n",
            "[203240, '0140386645', 10, 7.57925512219969]\n",
            "[119858, '044990752X', 10, 9.148731655247577]\n",
            "[223154, '0884861775', 6, 6.990506206286333]\n",
            "[112083, '0553250043', 10, 8.578641316709048]\n",
            "[275220, '0060393009', 9, 8.466160081315394]\n",
            "[39646, '0679783571', 9, 7.7916896123214485]\n",
            "[78783, '045121174X', 9, 8.490322025294466]\n",
            "[38023, '0385503857', 9, 9.592080587627422]\n",
            "[233903, '0553582232', 8, 7.740353400401254]\n",
            "[63714, '0395850894', 9, 9.4392149558881]\n",
            "[153723, '0380808315', 7, 6.076769283873669]\n",
            "[229329, '207053197X', 10, 8.694330198096711]\n",
            "[243930, '0805068341', 7, 7.467293259621696]\n",
            "[98391, '050552497X', 8, 8.70232396007685]\n",
            "[43910, '0375412530', 8, 7.597609362747091]\n",
            "[190741, '0812016882', 10, 6.6330426442431545]\n",
            "[171602, '096503240X', 10, 7.712549634405972]\n",
            "[270820, '044990864X', 6, 6.614102103480149]\n",
            "[7283, '0553278274', 7, 8.139741658922471]\n",
            "[184299, '0451186362', 9, 8.223334536491791]\n",
            "[98391, '1551666952', 8, 9.131706677799192]\n",
            "[235935, '044661064X', 5, 8.187147004493742]\n",
            "[91342, '0373835671', 5, 6.719409446816782]\n",
            "[31315, '0670031267', 9, 8.532136356262267]\n",
            "[190708, '0385511612', 8, 6.351838644198025]\n",
            "[57725, '1878424505', 7, 8.155730783141626]\n",
            "[155916, '0330247654', 6, 7.569021804377861]\n",
            "[86641, '0671559273', 7, 7.760643877370241]\n",
            "[185233, '0812511778', 5, 5.259212280198072]\n",
            "[16795, '0525946063', 8, 7.513756020580052]\n",
            "[218068, '0439425220', 10, 8.907401975497022]\n",
            "[176459, '2877304892', 8, 7.24740411778055]\n",
            "[39467, '8433920979', 4, 7.16704051558517]\n",
            "[240401, '0465041213', 5, 7.099254941699106]\n",
            "[123883, '0373835086', 5, 5.01709574107195]\n",
            "[35407, '3442420156', 8, 8.00197970796444]\n",
            "[92810, '0425182908', 6, 6.302646381483736]\n",
            "[191560, '0070398607', 6, 6.925999162233718]\n",
            "[98391, '0312207697', 9, 8.676422387720605]\n",
            "[123981, '0553287532', 8, 6.849831291496481]\n",
            "[58911, '156838551X', 5, 7.24627001583876]\n",
            "[209563, '0385262787', 9, 7.793339544565393]\n",
            "[227705, '0553563521', 6, 7.97022926475442]\n",
            "[146175, '0671758896', 9, 7.1514687070678065]\n",
            "[74286, '0671003755', 7, 7.961623597989479]\n",
            "[235105, '0060008490', 9, 7.775479531263702]\n",
            "[271531, '0553260057', 9, 8.366507065934773]\n",
            "[204864, '0451191951', 10, 8.15927916487164]\n",
            "[219008, '0380788152', 7, 7.118666908532198]\n",
            "[156584, '0385721676', 7, 6.782511887707221]\n",
            "[130847, '0688127010', 10, 9.052269499862277]\n",
            "[33319, '1842223739', 5, 8.358366204588195]\n",
            "[82831, '0671017128', 8, 7.840359049409989]\n",
            "[2033, '051513628X', 6, 9.071141679763103]\n",
            "[78973, '0446601373', 8, 7.650672601303542]\n",
            "[247240, '0002621509', 9, 7.525885068699872]\n",
            "[78973, '0754061132', 7, 7.650672601303542]\n",
            "[98904, '0452278902', 10, 8.372698988405572]\n",
            "[207965, '0142302376', 9, 8.237937581934593]\n",
            "[197659, '0394505050', 9, 8.284532623939688]\n",
            "[36003, '0060196122', 9, 8.498296579762009]\n",
            "[244171, '0446600660', 8, 8.41461672523932]\n",
            "[224809, '1551666111', 7, 7.861062751285334]\n",
            "[110029, '0743435338', 9, 7.809349701299551]\n",
            "[54898, '0964993988', 7, 8.94635725595583]\n",
            "[69078, '8420618055', 10, 7.911631357981197]\n",
            "[117384, '0345352785', 5, 7.17417049319656]\n",
            "[148898, '0671041789', 8, 9.761341304022553]\n",
            "[78846, '0842363726', 9, 7.782560020826896]\n",
            "[76019, '034529873X', 8, 7.261228659861012]\n",
            "[209373, '0440225701', 8, 7.669978201452981]\n",
            "[12100, '0195101405', 8, 7.332123739042148]\n",
            "[173481, '0425182150', 6, 6.726893282809342]\n",
            "[257204, '0451452305', 10, 9.491920488555975]\n",
            "[253556, '0316106828', 8, 8.837573095739556]\n",
            "[203603, '0441004326', 9, 8.254113213489948]\n",
            "[36817, '0060976845', 6, 6.5228832835417885]\n",
            "[247429, '0805421351', 10, 10]\n",
            "[153513, '0374521964', 7, 7.705102138284732]\n",
            "[93047, '0553572008', 8, 7.485765332192204]\n",
            "[222050, '0445406488', 10, 8.695559318190421]\n",
            "[157380, '0486229238', 10, 8.721392700852466]\n",
            "[180378, '155783363X', 8, 8.443622743315947]\n",
            "[231340, '0684807319', 5, 8.06428810659809]\n",
            "[276929, '2266047280', 7, 6.570860134143528]\n",
            "[189392, '0060194790', 9, 7.446430138323761]\n",
            "[11993, '0871239469', 8, 8.537100976152145]\n",
            "[269557, '0684809001', 5, 8.289882118515237]\n",
            "[93629, '0451119932', 6, 7.063153498951092]\n",
            "[110912, '0312195516', 9, 9.069313518505792]\n",
            "[207349, '038078145X', 7, 7.635888408272641]\n",
            "[257198, '0671578057', 7, 7.824109299742977]\n",
            "[166123, '006109398X', 9, 7.402901795683843]\n",
            "[172742, '0679436405', 6, 8.576415284034265]\n",
            "[274301, '0446612731', 8, 9.208259280566617]\n",
            "[278137, '1558744150', 9, 8.066309896013065]\n",
            "[27812, '0345452569', 6, 8.248745710281979]\n",
            "[52011, '0452008298', 5, 6.198822295758756]\n",
            "[153662, '0373705379', 8, 7.939573209145076]\n",
            "[70594, '0380816547', 8, 7.960716190874418]\n"
          ]
        }
      ]
    },
    {
      "cell_type": "code",
      "source": [
        "user_id = 118533\n",
        "\n",
        "# get real ratings for the user from the data\n",
        "user_ratings = ratings_cleaned_filtered[ratings_cleaned_filtered['UserID'] == user_id][['ISBN', 'Rating']]\n",
        "\n",
        "# create an empty DataFrame to store the results\n",
        "result_df = pd.DataFrame(columns=['ISBN', 'Real_Rating', 'Predicted_Rating'])\n",
        "\n",
        "# iterate through all the real ratings\n",
        "for index, row in user_ratings.iterrows():\n",
        "    book_isbn = row['ISBN']\n",
        "    real_rating = row['Rating']\n",
        "\n",
        "    # get the predicted rating\n",
        "    predicted_rating = model.predict(user_id, book_isbn).est\n",
        "\n",
        "    # add results to the DataFrame\n",
        "    temp_df = pd.DataFrame({'ISBN': [book_isbn], 'Real_Rating': [real_rating], 'Predicted_Rating': [predicted_rating]})\n",
        "    result_df = pd.concat([result_df, temp_df], ignore_index=True)\n",
        "\n",
        "print(result_df)\n"
      ],
      "metadata": {
        "colab": {
          "base_uri": "https://localhost:8080/"
        },
        "id": "6h2yhpwHJqTn",
        "outputId": "e3856f0f-6daa-4687-b85c-8858aaed79db"
      },
      "execution_count": 262,
      "outputs": [
        {
          "output_type": "stream",
          "name": "stdout",
          "text": [
            "          ISBN Real_Rating  Predicted_Rating\n",
            "0   0060256656          10          9.233901\n",
            "1   006095616X          10          9.127542\n",
            "2   0061015725           8          7.879479\n",
            "3   0061044571           4          6.567567\n",
            "4   006251380X           3          6.537527\n",
            "5   0316776963          10          9.310396\n",
            "6   0345341198           4          6.917017\n",
            "7   0385234104          10          8.820904\n",
            "8   0439064864          10          9.778536\n",
            "9   0439098645          10          9.383546\n",
            "10  0439139597          10          9.561724\n",
            "11  0439434564           6          7.464980\n",
            "12  0440218063           5          7.311619\n",
            "13  0446395382          10          8.864450\n",
            "14  0451519124           7          8.482817\n",
            "15  0452276748          10          8.396986\n",
            "16  0553265156          10          8.899563\n",
            "17  0553279475           9          8.396986\n",
            "18  0590353403          10          9.974318\n",
            "19  0609805797           8          8.279096\n",
            "20  0609807420          10          9.137818\n",
            "21  067175047X           8          8.464140\n",
            "22  067178501X          10          8.970477\n",
            "23  0679449329          10          9.020145\n",
            "24  0689714335          10          9.247369\n",
            "25  0762409894          10          9.051159\n",
            "26  0764104322           8          8.396986\n",
            "27  0764544659          10          8.396986\n",
            "28  0764562002           8          8.396986\n",
            "29  0764566202          10          8.396986\n",
            "30  0766607119          10          9.127860\n",
            "31  0766607151          10          8.154221\n",
            "32  076660716X          10          8.720341\n",
            "33  0766607208          10          9.174730\n",
            "34  0766607216          10          8.983085\n",
            "35  0786866314          10          8.585909\n",
            "36  0786884347           5          7.112646\n",
            "37  0786886048          10          8.396986\n",
            "38  0787946052          10          9.109008\n",
            "39  0806503726          10          9.140713\n",
            "40  0806949945          10          9.279347\n",
            "41  0821769340           7          7.272182\n",
            "42  0895772760           7          7.473095\n",
            "43  0941533220          10          9.100313\n",
            "44  0942257197          10          9.028540\n",
            "45  1400010640           7          7.931017\n",
            "46  1401901204           5          8.663353\n",
            "47  1567182593          10          8.160501\n",
            "48  1567183549           6          8.396986\n",
            "49  1567184855          10          8.658624\n",
            "50  1579546463           8          8.793572\n",
            "51  1841003042           6          7.424044\n",
            "52  962593460X           8          8.378777\n"
          ]
        }
      ]
    },
    {
      "cell_type": "code",
      "source": [
        "#Get recommendations for real user\n",
        "user_id = 118533\n",
        "\n",
        "# Get the real rating for user from database\n",
        "user_ratings = data[data['UserID'] == user_id][['ISBN', 'Rating']]\n",
        "\n",
        "# get 1000 bet rated books\n",
        "top_n_books = ratings_cleaned_filtered['ISBN'].value_counts().head(1000).index\n",
        "\n",
        "# Filter books from top 1000\n",
        "books_not_rated = top_n_books.difference(user_ratings['ISBN'].tolist())\n",
        "\n",
        "# create DataFrame to keep the recomendations\n",
        "recommendations_df = pd.DataFrame(columns=['ISBN', 'Title', 'Author', 'Predicted_Rating'])\n",
        "\n",
        "# Coming through all not rated books\n",
        "for book_isbn in books_not_rated:\n",
        "    # get predicted rating\n",
        "    predicted_rating = model.predict(user_id, book_isbn).est\n",
        "\n",
        "    # get title\n",
        "    book_title = books[books['ISBN'] == book_isbn]['Title'].values[0]\n",
        "    book_author = books[books['ISBN'] == book_isbn]['Author'].values[0]\n",
        "\n",
        "    # creat temp DataFrame with current recomendation\n",
        "    temp_df = pd.DataFrame({'ISBN': [book_isbn], 'Title': [book_title],'Author':[book_author], 'Predicted_Rating': [predicted_rating]})\n",
        "\n",
        "    # add temp df to the main\n",
        "    recommendations_df = pd.concat([recommendations_df, temp_df], ignore_index=True)\n",
        "\n",
        "# Sort dataframe\n",
        "recommendations_df = recommendations_df.sort_values(by='Predicted_Rating', ascending=False)\n",
        "\n",
        "# take n recomendation\n",
        "n_recommendations = 10\n",
        "top_n_recommendations = recommendations_df.head(n_recommendations)\n",
        "\n",
        "pd.set_option('display.max_colwidth', None)\n",
        "print(f\"Top {n_recommendations}recommended books for user  {user_id}:\")\n",
        "print(top_n_recommendations[['ISBN', 'Title', 'Author','Predicted_Rating']])\n"
      ],
      "metadata": {
        "colab": {
          "base_uri": "https://localhost:8080/"
        },
        "outputId": "494cb0ff-3fd3-4ff9-e1ed-00969cef5d73",
        "id": "vlH31zFcY7sl"
      },
      "execution_count": 263,
      "outputs": [
        {
          "output_type": "stream",
          "name": "stdout",
          "text": [
            "Top 10recommended books for user  118533:\n",
            "           ISBN                                                        Title  \\\n",
            "85   0142001740                                      The Secret Life of Bees   \n",
            "493  0446310786                                        To Kill a Mockingbird   \n",
            "697  0553274295                                     Where the Red Fern Grows   \n",
            "178  0345339738       The Return of the King (The Lord of the Rings, Part 3)   \n",
            "426  0439136369            Harry Potter and the Prisoner of Azkaban (Book 3)   \n",
            "288  0380813815  Lamb : The Gospel According to Biff, Christ's Childhood Pal   \n",
            "177  0345339711               The Two Towers (The Lord of the Rings, Part 2)   \n",
            "724  0553562738                                                Doomsday Book   \n",
            "478  0440998050                                            A Wrinkle in Time   \n",
            "445  0440217563                                                      Voyager   \n",
            "\n",
            "                Author  Predicted_Rating  \n",
            "85       Sue Monk Kidd         10.000000  \n",
            "493         Harper Lee         10.000000  \n",
            "697       Wilson Rawls         10.000000  \n",
            "178     J.R.R. TOLKIEN          9.819392  \n",
            "426      J. K. Rowling          9.791938  \n",
            "288  Christopher Moore          9.783907  \n",
            "177     J.R.R. TOLKIEN          9.743739  \n",
            "724      Connie Willis          9.621031  \n",
            "478  Madeleine L'Engle          9.579454  \n",
            "445     DIANA GABALDON          9.567717  \n"
          ]
        }
      ]
    },
    {
      "cell_type": "code",
      "source": [
        "user_id = 118533\n",
        "\n",
        "# get real ratings for the user from the data\n",
        "user_ratings = data[data['UserID'] == user_id][['ISBN', 'Title','Rating']]\n",
        "\n",
        "# create an empty DataFrame to store the results\n",
        "result_df = pd.DataFrame(columns=['ISBN','Title' ,'Real_Rating', 'Predicted_Rating'])\n",
        "\n",
        "# iterate through all the real ratings\n",
        "for index, row in user_ratings.iterrows():\n",
        "    book_isbn = row['ISBN']\n",
        "    real_rating = row['Rating']\n",
        "    book_title = row['Title']\n",
        "\n",
        "    # get the predicted rating\n",
        "    predicted_rating = model.predict(user_id, book_isbn).est\n",
        "\n",
        "    # add results to the DataFrame\n",
        "    temp_df = pd.DataFrame({'ISBN': [book_isbn], 'Title':[book_title], 'Real_Rating': [real_rating], 'Predicted_Rating': [predicted_rating]})\n",
        "    result_df = pd.concat([result_df, temp_df], ignore_index=True)\n",
        "\n",
        "result_df.sort_values(by='Real_Rating',ascending=False)\n",
        "#print(result_df.sort_values(by='Real_Rating'))\n"
      ],
      "metadata": {
        "colab": {
          "base_uri": "https://localhost:8080/",
          "height": 1000
        },
        "outputId": "cf62502a-782a-43d7-a320-ff631c89541c",
        "id": "GrhMnKlJbRYH"
      },
      "execution_count": 271,
      "outputs": [
        {
          "output_type": "execute_result",
          "data": {
            "text/plain": [
              "          ISBN  \\\n",
              "0   0316776963   \n",
              "24  0446395382   \n",
              "27  0553265156   \n",
              "29  0609807420   \n",
              "31  067178501X   \n",
              "32  0679449329   \n",
              "33  0762409894   \n",
              "35  0764544659   \n",
              "37  0764566202   \n",
              "38  0766607151   \n",
              "39  076660716X   \n",
              "40  0766607216   \n",
              "42  0786886048   \n",
              "43  0787946052   \n",
              "44  0806503726   \n",
              "45  0806949945   \n",
              "46  0941533220   \n",
              "47  0942257197   \n",
              "49  1567182593   \n",
              "1   0439064864   \n",
              "26  0452276748   \n",
              "2   0439139597   \n",
              "3   0590353403   \n",
              "4   0766607119   \n",
              "19  006095616X   \n",
              "18  0385234104   \n",
              "5   0766607208   \n",
              "7   1567184855   \n",
              "15  0786866314   \n",
              "8   0439098645   \n",
              "10  0060256656   \n",
              "11  0689714335   \n",
              "28  0553279475   \n",
              "12  1579546463   \n",
              "36  0764562002   \n",
              "6   0061015725   \n",
              "52  962593460X   \n",
              "34  0764104322   \n",
              "14  0609805797   \n",
              "30  067175047X   \n",
              "13  0895772760   \n",
              "16  0821769340   \n",
              "25  0451519124   \n",
              "48  1400010640   \n",
              "22  0439434564   \n",
              "50  1567183549   \n",
              "51  1841003042   \n",
              "41  0786884347   \n",
              "17  1401901204   \n",
              "23  0440218063   \n",
              "9   0061044571   \n",
              "21  0345341198   \n",
              "20  006251380X   \n",
              "\n",
              "                                                                                                                                         Title  \\\n",
              "0                                                                                                                       Me Talk Pretty One Day   \n",
              "24                                                                                      Come Play with Me : Games and Toys for Creative Lovers   \n",
              "27                                                                                        His Way: The Unauthorized Biography of Frank Sinatra   \n",
              "29                                                                                                              The Business Plan for the Body   \n",
              "31                                                                                             PALMISTRY : HOW TO CHART THE LINES OF YOUR LIFE   \n",
              "32                                                     Practical Intuition: How to Harness the Power of Your Instinct and Make It Work for You   \n",
              "33                                                                                                    LIBRARY OF CLASSIC CHILDREN'S LITERATURE   \n",
              "35                                                                                                                           Sushi for Dummies   \n",
              "37                                                                                                                      Frommer's(r) Maui 2003   \n",
              "38                                                                                             Black Beauty (Treasury of Illustrated Classics)   \n",
              "39                                                                                                                                       Heidi   \n",
              "40                                                                                                Jane Eyre (Treasury of Illustrated Classics)   \n",
              "42                                                                                                            The Relationship Rescue Workbook   \n",
              "43  Parents Do Make a Difference : How to Raise Kids with Solid Character, Strong Minds, and Caring Hearts (The Jossey-Bass Psychology Series)   \n",
              "44                                                                                     The Modern Witch's Spellbook (Modern Witch's Spellbook)   \n",
              "45                                                                                                      The Little Giant Encyclopedia of Runes   \n",
              "46                                                                                                                      Italian Language Today   \n",
              "47                                                                                          The Rules of Neighborhood Poker According to Hoyle   \n",
              "49                                                                                     Italian Witchcraft: The Old Religion of Southern Europe   \n",
              "1                                                                                             Harry Potter and the Chamber of Secrets (Book 2)   \n",
              "26                           A Gynecologist's Second Opinion: The Questions and Answers You Need to Take Charge of Your Health (First Edition)   \n",
              "2                                                                                                 Harry Potter and the Goblet of Fire (Book 4)   \n",
              "3                                                                                               Harry Potter and the Sorcerer's Stone (Book 1)   \n",
              "4                                                                                              Little Women (Treasury of Illustrated Classics)   \n",
              "19                 The Dance of Connection: How to Talk to Someone When You're Mad, Hurt, Scared, Frustrated, Insulted, Betrayed, or Desperate   \n",
              "18                                                                                                                                  Fatherhood   \n",
              "5                                                                             Treasury of Illustrated Classics: Adventures of Huckleberry Finn   \n",
              "7                                                                                         Journey of Souls: Case Studies of Life Between Lives   \n",
              "15                                                               Relationship Rescue: A Seven Step Strategy for Reconnecting with Your Partner   \n",
              "8                                                                                                                                   Aquamarine   \n",
              "10                                                                                                                             The Giving Tree   \n",
              "11                                                                                                                  The Cat Who Went to Heaven   \n",
              "28                                                        Bantam New College Italian/English Dictionary (Bantam New College Dictionary Series)   \n",
              "12                                       The South Beach Diet: The Delicious, Doctor-Designed, Foolproof Plan for Fast and Healthy Weight Loss   \n",
              "36                                                                                                                          Hawaii for Dummies   \n",
              "6                                                                                                                                         Prey   \n",
              "52                                                                                                            Sushi (Essential Kitchen Series)   \n",
              "34                                                                                      Dictionary of Italian Slang and Colloquial Expressions   \n",
              "14                           The Seven Principles for Making Marriage Work : A Practical Guide from the Country's Foremost Relationship Expert   \n",
              "30                                                                                                         LANGUAGE OF LOVE : LANGUAGE OF LOVE   \n",
              "13                                                                                                              Household Hints and Handy Tips   \n",
              "16                                                                                                                                Cold Blooded   \n",
              "25                                                                                                              Adventures of Huckleberry Finn   \n",
              "48                                                     Fodor's U.S. and British Virgin Islands (Fodor's the U.S. &amp; British Virgin Islands)   \n",
              "22                                                                                                             Every Dog Has His Day (Mcgrowl)   \n",
              "50                                                                                     Create Your Own Joy: A Guide for Transforming Your Life   \n",
              "51                                                                                                                    20th Century Pop Culture   \n",
              "41                                                                      The RoMANtic's Guide: Hundreds of Creative Tips for a Lifetime of Love   \n",
              "17                                                                                                    Contacting Your Spirit Guide (Book w/CD)   \n",
              "23                                                                                                                 Lottery!: Your Dream Ticket   \n",
              "9                                                              Mars and Venus Together Forever: A Practical Guide to Creating Lasting Intimacy   \n",
              "21                                                                                                         Out-Of-Body-Experiences: A Handbook   \n",
              "20                                                                          The Faithful Gardener : A Wise Tale About That Which Can Never Die   \n",
              "\n",
              "   Real_Rating  Predicted_Rating  \n",
              "0           10          9.310396  \n",
              "24          10          8.864450  \n",
              "27          10          8.899563  \n",
              "29          10          9.137818  \n",
              "31          10          8.970477  \n",
              "32          10          9.020145  \n",
              "33          10          9.051159  \n",
              "35          10          8.396986  \n",
              "37          10          8.396986  \n",
              "38          10          8.154221  \n",
              "39          10          8.720341  \n",
              "40          10          8.983085  \n",
              "42          10          8.396986  \n",
              "43          10          9.109008  \n",
              "44          10          9.140713  \n",
              "45          10          9.279347  \n",
              "46          10          9.100313  \n",
              "47          10          9.028540  \n",
              "49          10          8.160501  \n",
              "1           10          9.778536  \n",
              "26          10          8.396986  \n",
              "2           10          9.561724  \n",
              "3           10          9.974318  \n",
              "4           10          9.127860  \n",
              "19          10          9.127542  \n",
              "18          10          8.820904  \n",
              "5           10          9.174730  \n",
              "7           10          8.658624  \n",
              "15          10          8.585909  \n",
              "8           10          9.383546  \n",
              "10          10          9.233901  \n",
              "11          10          9.247369  \n",
              "28           9          8.396986  \n",
              "12           8          8.793572  \n",
              "36           8          8.396986  \n",
              "6            8          7.879479  \n",
              "52           8          8.378777  \n",
              "34           8          8.396986  \n",
              "14           8          8.279096  \n",
              "30           8          8.464140  \n",
              "13           7          7.473095  \n",
              "16           7          7.272182  \n",
              "25           7          8.482817  \n",
              "48           7          7.931017  \n",
              "22           6          7.464980  \n",
              "50           6          8.396986  \n",
              "51           6          7.424044  \n",
              "41           5          7.112646  \n",
              "17           5          8.663353  \n",
              "23           5          7.311619  \n",
              "9            4          6.567567  \n",
              "21           4          6.917017  \n",
              "20           3          6.537527  "
            ],
            "text/html": [
              "\n",
              "  <div id=\"df-3f16946d-d396-4432-9280-ba5cff3b9b8c\" class=\"colab-df-container\">\n",
              "    <div>\n",
              "<style scoped>\n",
              "    .dataframe tbody tr th:only-of-type {\n",
              "        vertical-align: middle;\n",
              "    }\n",
              "\n",
              "    .dataframe tbody tr th {\n",
              "        vertical-align: top;\n",
              "    }\n",
              "\n",
              "    .dataframe thead th {\n",
              "        text-align: right;\n",
              "    }\n",
              "</style>\n",
              "<table border=\"1\" class=\"dataframe\">\n",
              "  <thead>\n",
              "    <tr style=\"text-align: right;\">\n",
              "      <th></th>\n",
              "      <th>ISBN</th>\n",
              "      <th>Title</th>\n",
              "      <th>Real_Rating</th>\n",
              "      <th>Predicted_Rating</th>\n",
              "    </tr>\n",
              "  </thead>\n",
              "  <tbody>\n",
              "    <tr>\n",
              "      <th>0</th>\n",
              "      <td>0316776963</td>\n",
              "      <td>Me Talk Pretty One Day</td>\n",
              "      <td>10</td>\n",
              "      <td>9.310396</td>\n",
              "    </tr>\n",
              "    <tr>\n",
              "      <th>24</th>\n",
              "      <td>0446395382</td>\n",
              "      <td>Come Play with Me : Games and Toys for Creative Lovers</td>\n",
              "      <td>10</td>\n",
              "      <td>8.864450</td>\n",
              "    </tr>\n",
              "    <tr>\n",
              "      <th>27</th>\n",
              "      <td>0553265156</td>\n",
              "      <td>His Way: The Unauthorized Biography of Frank Sinatra</td>\n",
              "      <td>10</td>\n",
              "      <td>8.899563</td>\n",
              "    </tr>\n",
              "    <tr>\n",
              "      <th>29</th>\n",
              "      <td>0609807420</td>\n",
              "      <td>The Business Plan for the Body</td>\n",
              "      <td>10</td>\n",
              "      <td>9.137818</td>\n",
              "    </tr>\n",
              "    <tr>\n",
              "      <th>31</th>\n",
              "      <td>067178501X</td>\n",
              "      <td>PALMISTRY : HOW TO CHART THE LINES OF YOUR LIFE</td>\n",
              "      <td>10</td>\n",
              "      <td>8.970477</td>\n",
              "    </tr>\n",
              "    <tr>\n",
              "      <th>32</th>\n",
              "      <td>0679449329</td>\n",
              "      <td>Practical Intuition: How to Harness the Power of Your Instinct and Make It Work for You</td>\n",
              "      <td>10</td>\n",
              "      <td>9.020145</td>\n",
              "    </tr>\n",
              "    <tr>\n",
              "      <th>33</th>\n",
              "      <td>0762409894</td>\n",
              "      <td>LIBRARY OF CLASSIC CHILDREN'S LITERATURE</td>\n",
              "      <td>10</td>\n",
              "      <td>9.051159</td>\n",
              "    </tr>\n",
              "    <tr>\n",
              "      <th>35</th>\n",
              "      <td>0764544659</td>\n",
              "      <td>Sushi for Dummies</td>\n",
              "      <td>10</td>\n",
              "      <td>8.396986</td>\n",
              "    </tr>\n",
              "    <tr>\n",
              "      <th>37</th>\n",
              "      <td>0764566202</td>\n",
              "      <td>Frommer's(r) Maui 2003</td>\n",
              "      <td>10</td>\n",
              "      <td>8.396986</td>\n",
              "    </tr>\n",
              "    <tr>\n",
              "      <th>38</th>\n",
              "      <td>0766607151</td>\n",
              "      <td>Black Beauty (Treasury of Illustrated Classics)</td>\n",
              "      <td>10</td>\n",
              "      <td>8.154221</td>\n",
              "    </tr>\n",
              "    <tr>\n",
              "      <th>39</th>\n",
              "      <td>076660716X</td>\n",
              "      <td>Heidi</td>\n",
              "      <td>10</td>\n",
              "      <td>8.720341</td>\n",
              "    </tr>\n",
              "    <tr>\n",
              "      <th>40</th>\n",
              "      <td>0766607216</td>\n",
              "      <td>Jane Eyre (Treasury of Illustrated Classics)</td>\n",
              "      <td>10</td>\n",
              "      <td>8.983085</td>\n",
              "    </tr>\n",
              "    <tr>\n",
              "      <th>42</th>\n",
              "      <td>0786886048</td>\n",
              "      <td>The Relationship Rescue Workbook</td>\n",
              "      <td>10</td>\n",
              "      <td>8.396986</td>\n",
              "    </tr>\n",
              "    <tr>\n",
              "      <th>43</th>\n",
              "      <td>0787946052</td>\n",
              "      <td>Parents Do Make a Difference : How to Raise Kids with Solid Character, Strong Minds, and Caring Hearts (The Jossey-Bass Psychology Series)</td>\n",
              "      <td>10</td>\n",
              "      <td>9.109008</td>\n",
              "    </tr>\n",
              "    <tr>\n",
              "      <th>44</th>\n",
              "      <td>0806503726</td>\n",
              "      <td>The Modern Witch's Spellbook (Modern Witch's Spellbook)</td>\n",
              "      <td>10</td>\n",
              "      <td>9.140713</td>\n",
              "    </tr>\n",
              "    <tr>\n",
              "      <th>45</th>\n",
              "      <td>0806949945</td>\n",
              "      <td>The Little Giant Encyclopedia of Runes</td>\n",
              "      <td>10</td>\n",
              "      <td>9.279347</td>\n",
              "    </tr>\n",
              "    <tr>\n",
              "      <th>46</th>\n",
              "      <td>0941533220</td>\n",
              "      <td>Italian Language Today</td>\n",
              "      <td>10</td>\n",
              "      <td>9.100313</td>\n",
              "    </tr>\n",
              "    <tr>\n",
              "      <th>47</th>\n",
              "      <td>0942257197</td>\n",
              "      <td>The Rules of Neighborhood Poker According to Hoyle</td>\n",
              "      <td>10</td>\n",
              "      <td>9.028540</td>\n",
              "    </tr>\n",
              "    <tr>\n",
              "      <th>49</th>\n",
              "      <td>1567182593</td>\n",
              "      <td>Italian Witchcraft: The Old Religion of Southern Europe</td>\n",
              "      <td>10</td>\n",
              "      <td>8.160501</td>\n",
              "    </tr>\n",
              "    <tr>\n",
              "      <th>1</th>\n",
              "      <td>0439064864</td>\n",
              "      <td>Harry Potter and the Chamber of Secrets (Book 2)</td>\n",
              "      <td>10</td>\n",
              "      <td>9.778536</td>\n",
              "    </tr>\n",
              "    <tr>\n",
              "      <th>26</th>\n",
              "      <td>0452276748</td>\n",
              "      <td>A Gynecologist's Second Opinion: The Questions and Answers You Need to Take Charge of Your Health (First Edition)</td>\n",
              "      <td>10</td>\n",
              "      <td>8.396986</td>\n",
              "    </tr>\n",
              "    <tr>\n",
              "      <th>2</th>\n",
              "      <td>0439139597</td>\n",
              "      <td>Harry Potter and the Goblet of Fire (Book 4)</td>\n",
              "      <td>10</td>\n",
              "      <td>9.561724</td>\n",
              "    </tr>\n",
              "    <tr>\n",
              "      <th>3</th>\n",
              "      <td>0590353403</td>\n",
              "      <td>Harry Potter and the Sorcerer's Stone (Book 1)</td>\n",
              "      <td>10</td>\n",
              "      <td>9.974318</td>\n",
              "    </tr>\n",
              "    <tr>\n",
              "      <th>4</th>\n",
              "      <td>0766607119</td>\n",
              "      <td>Little Women (Treasury of Illustrated Classics)</td>\n",
              "      <td>10</td>\n",
              "      <td>9.127860</td>\n",
              "    </tr>\n",
              "    <tr>\n",
              "      <th>19</th>\n",
              "      <td>006095616X</td>\n",
              "      <td>The Dance of Connection: How to Talk to Someone When You're Mad, Hurt, Scared, Frustrated, Insulted, Betrayed, or Desperate</td>\n",
              "      <td>10</td>\n",
              "      <td>9.127542</td>\n",
              "    </tr>\n",
              "    <tr>\n",
              "      <th>18</th>\n",
              "      <td>0385234104</td>\n",
              "      <td>Fatherhood</td>\n",
              "      <td>10</td>\n",
              "      <td>8.820904</td>\n",
              "    </tr>\n",
              "    <tr>\n",
              "      <th>5</th>\n",
              "      <td>0766607208</td>\n",
              "      <td>Treasury of Illustrated Classics: Adventures of Huckleberry Finn</td>\n",
              "      <td>10</td>\n",
              "      <td>9.174730</td>\n",
              "    </tr>\n",
              "    <tr>\n",
              "      <th>7</th>\n",
              "      <td>1567184855</td>\n",
              "      <td>Journey of Souls: Case Studies of Life Between Lives</td>\n",
              "      <td>10</td>\n",
              "      <td>8.658624</td>\n",
              "    </tr>\n",
              "    <tr>\n",
              "      <th>15</th>\n",
              "      <td>0786866314</td>\n",
              "      <td>Relationship Rescue: A Seven Step Strategy for Reconnecting with Your Partner</td>\n",
              "      <td>10</td>\n",
              "      <td>8.585909</td>\n",
              "    </tr>\n",
              "    <tr>\n",
              "      <th>8</th>\n",
              "      <td>0439098645</td>\n",
              "      <td>Aquamarine</td>\n",
              "      <td>10</td>\n",
              "      <td>9.383546</td>\n",
              "    </tr>\n",
              "    <tr>\n",
              "      <th>10</th>\n",
              "      <td>0060256656</td>\n",
              "      <td>The Giving Tree</td>\n",
              "      <td>10</td>\n",
              "      <td>9.233901</td>\n",
              "    </tr>\n",
              "    <tr>\n",
              "      <th>11</th>\n",
              "      <td>0689714335</td>\n",
              "      <td>The Cat Who Went to Heaven</td>\n",
              "      <td>10</td>\n",
              "      <td>9.247369</td>\n",
              "    </tr>\n",
              "    <tr>\n",
              "      <th>28</th>\n",
              "      <td>0553279475</td>\n",
              "      <td>Bantam New College Italian/English Dictionary (Bantam New College Dictionary Series)</td>\n",
              "      <td>9</td>\n",
              "      <td>8.396986</td>\n",
              "    </tr>\n",
              "    <tr>\n",
              "      <th>12</th>\n",
              "      <td>1579546463</td>\n",
              "      <td>The South Beach Diet: The Delicious, Doctor-Designed, Foolproof Plan for Fast and Healthy Weight Loss</td>\n",
              "      <td>8</td>\n",
              "      <td>8.793572</td>\n",
              "    </tr>\n",
              "    <tr>\n",
              "      <th>36</th>\n",
              "      <td>0764562002</td>\n",
              "      <td>Hawaii for Dummies</td>\n",
              "      <td>8</td>\n",
              "      <td>8.396986</td>\n",
              "    </tr>\n",
              "    <tr>\n",
              "      <th>6</th>\n",
              "      <td>0061015725</td>\n",
              "      <td>Prey</td>\n",
              "      <td>8</td>\n",
              "      <td>7.879479</td>\n",
              "    </tr>\n",
              "    <tr>\n",
              "      <th>52</th>\n",
              "      <td>962593460X</td>\n",
              "      <td>Sushi (Essential Kitchen Series)</td>\n",
              "      <td>8</td>\n",
              "      <td>8.378777</td>\n",
              "    </tr>\n",
              "    <tr>\n",
              "      <th>34</th>\n",
              "      <td>0764104322</td>\n",
              "      <td>Dictionary of Italian Slang and Colloquial Expressions</td>\n",
              "      <td>8</td>\n",
              "      <td>8.396986</td>\n",
              "    </tr>\n",
              "    <tr>\n",
              "      <th>14</th>\n",
              "      <td>0609805797</td>\n",
              "      <td>The Seven Principles for Making Marriage Work : A Practical Guide from the Country's Foremost Relationship Expert</td>\n",
              "      <td>8</td>\n",
              "      <td>8.279096</td>\n",
              "    </tr>\n",
              "    <tr>\n",
              "      <th>30</th>\n",
              "      <td>067175047X</td>\n",
              "      <td>LANGUAGE OF LOVE : LANGUAGE OF LOVE</td>\n",
              "      <td>8</td>\n",
              "      <td>8.464140</td>\n",
              "    </tr>\n",
              "    <tr>\n",
              "      <th>13</th>\n",
              "      <td>0895772760</td>\n",
              "      <td>Household Hints and Handy Tips</td>\n",
              "      <td>7</td>\n",
              "      <td>7.473095</td>\n",
              "    </tr>\n",
              "    <tr>\n",
              "      <th>16</th>\n",
              "      <td>0821769340</td>\n",
              "      <td>Cold Blooded</td>\n",
              "      <td>7</td>\n",
              "      <td>7.272182</td>\n",
              "    </tr>\n",
              "    <tr>\n",
              "      <th>25</th>\n",
              "      <td>0451519124</td>\n",
              "      <td>Adventures of Huckleberry Finn</td>\n",
              "      <td>7</td>\n",
              "      <td>8.482817</td>\n",
              "    </tr>\n",
              "    <tr>\n",
              "      <th>48</th>\n",
              "      <td>1400010640</td>\n",
              "      <td>Fodor's U.S. and British Virgin Islands (Fodor's the U.S. &amp;amp; British Virgin Islands)</td>\n",
              "      <td>7</td>\n",
              "      <td>7.931017</td>\n",
              "    </tr>\n",
              "    <tr>\n",
              "      <th>22</th>\n",
              "      <td>0439434564</td>\n",
              "      <td>Every Dog Has His Day (Mcgrowl)</td>\n",
              "      <td>6</td>\n",
              "      <td>7.464980</td>\n",
              "    </tr>\n",
              "    <tr>\n",
              "      <th>50</th>\n",
              "      <td>1567183549</td>\n",
              "      <td>Create Your Own Joy: A Guide for Transforming Your Life</td>\n",
              "      <td>6</td>\n",
              "      <td>8.396986</td>\n",
              "    </tr>\n",
              "    <tr>\n",
              "      <th>51</th>\n",
              "      <td>1841003042</td>\n",
              "      <td>20th Century Pop Culture</td>\n",
              "      <td>6</td>\n",
              "      <td>7.424044</td>\n",
              "    </tr>\n",
              "    <tr>\n",
              "      <th>41</th>\n",
              "      <td>0786884347</td>\n",
              "      <td>The RoMANtic's Guide: Hundreds of Creative Tips for a Lifetime of Love</td>\n",
              "      <td>5</td>\n",
              "      <td>7.112646</td>\n",
              "    </tr>\n",
              "    <tr>\n",
              "      <th>17</th>\n",
              "      <td>1401901204</td>\n",
              "      <td>Contacting Your Spirit Guide (Book w/CD)</td>\n",
              "      <td>5</td>\n",
              "      <td>8.663353</td>\n",
              "    </tr>\n",
              "    <tr>\n",
              "      <th>23</th>\n",
              "      <td>0440218063</td>\n",
              "      <td>Lottery!: Your Dream Ticket</td>\n",
              "      <td>5</td>\n",
              "      <td>7.311619</td>\n",
              "    </tr>\n",
              "    <tr>\n",
              "      <th>9</th>\n",
              "      <td>0061044571</td>\n",
              "      <td>Mars and Venus Together Forever: A Practical Guide to Creating Lasting Intimacy</td>\n",
              "      <td>4</td>\n",
              "      <td>6.567567</td>\n",
              "    </tr>\n",
              "    <tr>\n",
              "      <th>21</th>\n",
              "      <td>0345341198</td>\n",
              "      <td>Out-Of-Body-Experiences: A Handbook</td>\n",
              "      <td>4</td>\n",
              "      <td>6.917017</td>\n",
              "    </tr>\n",
              "    <tr>\n",
              "      <th>20</th>\n",
              "      <td>006251380X</td>\n",
              "      <td>The Faithful Gardener : A Wise Tale About That Which Can Never Die</td>\n",
              "      <td>3</td>\n",
              "      <td>6.537527</td>\n",
              "    </tr>\n",
              "  </tbody>\n",
              "</table>\n",
              "</div>\n",
              "    <div class=\"colab-df-buttons\">\n",
              "\n",
              "  <div class=\"colab-df-container\">\n",
              "    <button class=\"colab-df-convert\" onclick=\"convertToInteractive('df-3f16946d-d396-4432-9280-ba5cff3b9b8c')\"\n",
              "            title=\"Convert this dataframe to an interactive table.\"\n",
              "            style=\"display:none;\">\n",
              "\n",
              "  <svg xmlns=\"http://www.w3.org/2000/svg\" height=\"24px\" viewBox=\"0 -960 960 960\">\n",
              "    <path d=\"M120-120v-720h720v720H120Zm60-500h600v-160H180v160Zm220 220h160v-160H400v160Zm0 220h160v-160H400v160ZM180-400h160v-160H180v160Zm440 0h160v-160H620v160ZM180-180h160v-160H180v160Zm440 0h160v-160H620v160Z\"/>\n",
              "  </svg>\n",
              "    </button>\n",
              "\n",
              "  <style>\n",
              "    .colab-df-container {\n",
              "      display:flex;\n",
              "      gap: 12px;\n",
              "    }\n",
              "\n",
              "    .colab-df-convert {\n",
              "      background-color: #E8F0FE;\n",
              "      border: none;\n",
              "      border-radius: 50%;\n",
              "      cursor: pointer;\n",
              "      display: none;\n",
              "      fill: #1967D2;\n",
              "      height: 32px;\n",
              "      padding: 0 0 0 0;\n",
              "      width: 32px;\n",
              "    }\n",
              "\n",
              "    .colab-df-convert:hover {\n",
              "      background-color: #E2EBFA;\n",
              "      box-shadow: 0px 1px 2px rgba(60, 64, 67, 0.3), 0px 1px 3px 1px rgba(60, 64, 67, 0.15);\n",
              "      fill: #174EA6;\n",
              "    }\n",
              "\n",
              "    .colab-df-buttons div {\n",
              "      margin-bottom: 4px;\n",
              "    }\n",
              "\n",
              "    [theme=dark] .colab-df-convert {\n",
              "      background-color: #3B4455;\n",
              "      fill: #D2E3FC;\n",
              "    }\n",
              "\n",
              "    [theme=dark] .colab-df-convert:hover {\n",
              "      background-color: #434B5C;\n",
              "      box-shadow: 0px 1px 3px 1px rgba(0, 0, 0, 0.15);\n",
              "      filter: drop-shadow(0px 1px 2px rgba(0, 0, 0, 0.3));\n",
              "      fill: #FFFFFF;\n",
              "    }\n",
              "  </style>\n",
              "\n",
              "    <script>\n",
              "      const buttonEl =\n",
              "        document.querySelector('#df-3f16946d-d396-4432-9280-ba5cff3b9b8c button.colab-df-convert');\n",
              "      buttonEl.style.display =\n",
              "        google.colab.kernel.accessAllowed ? 'block' : 'none';\n",
              "\n",
              "      async function convertToInteractive(key) {\n",
              "        const element = document.querySelector('#df-3f16946d-d396-4432-9280-ba5cff3b9b8c');\n",
              "        const dataTable =\n",
              "          await google.colab.kernel.invokeFunction('convertToInteractive',\n",
              "                                                    [key], {});\n",
              "        if (!dataTable) return;\n",
              "\n",
              "        const docLinkHtml = 'Like what you see? Visit the ' +\n",
              "          '<a target=\"_blank\" href=https://colab.research.google.com/notebooks/data_table.ipynb>data table notebook</a>'\n",
              "          + ' to learn more about interactive tables.';\n",
              "        element.innerHTML = '';\n",
              "        dataTable['output_type'] = 'display_data';\n",
              "        await google.colab.output.renderOutput(dataTable, element);\n",
              "        const docLink = document.createElement('div');\n",
              "        docLink.innerHTML = docLinkHtml;\n",
              "        element.appendChild(docLink);\n",
              "      }\n",
              "    </script>\n",
              "  </div>\n",
              "\n",
              "\n",
              "<div id=\"df-8cab7430-d776-4bdd-a791-6b9b7cb4ab3d\">\n",
              "  <button class=\"colab-df-quickchart\" onclick=\"quickchart('df-8cab7430-d776-4bdd-a791-6b9b7cb4ab3d')\"\n",
              "            title=\"Suggest charts\"\n",
              "            style=\"display:none;\">\n",
              "\n",
              "<svg xmlns=\"http://www.w3.org/2000/svg\" height=\"24px\"viewBox=\"0 0 24 24\"\n",
              "     width=\"24px\">\n",
              "    <g>\n",
              "        <path d=\"M19 3H5c-1.1 0-2 .9-2 2v14c0 1.1.9 2 2 2h14c1.1 0 2-.9 2-2V5c0-1.1-.9-2-2-2zM9 17H7v-7h2v7zm4 0h-2V7h2v10zm4 0h-2v-4h2v4z\"/>\n",
              "    </g>\n",
              "</svg>\n",
              "  </button>\n",
              "\n",
              "<style>\n",
              "  .colab-df-quickchart {\n",
              "      --bg-color: #E8F0FE;\n",
              "      --fill-color: #1967D2;\n",
              "      --hover-bg-color: #E2EBFA;\n",
              "      --hover-fill-color: #174EA6;\n",
              "      --disabled-fill-color: #AAA;\n",
              "      --disabled-bg-color: #DDD;\n",
              "  }\n",
              "\n",
              "  [theme=dark] .colab-df-quickchart {\n",
              "      --bg-color: #3B4455;\n",
              "      --fill-color: #D2E3FC;\n",
              "      --hover-bg-color: #434B5C;\n",
              "      --hover-fill-color: #FFFFFF;\n",
              "      --disabled-bg-color: #3B4455;\n",
              "      --disabled-fill-color: #666;\n",
              "  }\n",
              "\n",
              "  .colab-df-quickchart {\n",
              "    background-color: var(--bg-color);\n",
              "    border: none;\n",
              "    border-radius: 50%;\n",
              "    cursor: pointer;\n",
              "    display: none;\n",
              "    fill: var(--fill-color);\n",
              "    height: 32px;\n",
              "    padding: 0;\n",
              "    width: 32px;\n",
              "  }\n",
              "\n",
              "  .colab-df-quickchart:hover {\n",
              "    background-color: var(--hover-bg-color);\n",
              "    box-shadow: 0 1px 2px rgba(60, 64, 67, 0.3), 0 1px 3px 1px rgba(60, 64, 67, 0.15);\n",
              "    fill: var(--button-hover-fill-color);\n",
              "  }\n",
              "\n",
              "  .colab-df-quickchart-complete:disabled,\n",
              "  .colab-df-quickchart-complete:disabled:hover {\n",
              "    background-color: var(--disabled-bg-color);\n",
              "    fill: var(--disabled-fill-color);\n",
              "    box-shadow: none;\n",
              "  }\n",
              "\n",
              "  .colab-df-spinner {\n",
              "    border: 2px solid var(--fill-color);\n",
              "    border-color: transparent;\n",
              "    border-bottom-color: var(--fill-color);\n",
              "    animation:\n",
              "      spin 1s steps(1) infinite;\n",
              "  }\n",
              "\n",
              "  @keyframes spin {\n",
              "    0% {\n",
              "      border-color: transparent;\n",
              "      border-bottom-color: var(--fill-color);\n",
              "      border-left-color: var(--fill-color);\n",
              "    }\n",
              "    20% {\n",
              "      border-color: transparent;\n",
              "      border-left-color: var(--fill-color);\n",
              "      border-top-color: var(--fill-color);\n",
              "    }\n",
              "    30% {\n",
              "      border-color: transparent;\n",
              "      border-left-color: var(--fill-color);\n",
              "      border-top-color: var(--fill-color);\n",
              "      border-right-color: var(--fill-color);\n",
              "    }\n",
              "    40% {\n",
              "      border-color: transparent;\n",
              "      border-right-color: var(--fill-color);\n",
              "      border-top-color: var(--fill-color);\n",
              "    }\n",
              "    60% {\n",
              "      border-color: transparent;\n",
              "      border-right-color: var(--fill-color);\n",
              "    }\n",
              "    80% {\n",
              "      border-color: transparent;\n",
              "      border-right-color: var(--fill-color);\n",
              "      border-bottom-color: var(--fill-color);\n",
              "    }\n",
              "    90% {\n",
              "      border-color: transparent;\n",
              "      border-bottom-color: var(--fill-color);\n",
              "    }\n",
              "  }\n",
              "</style>\n",
              "\n",
              "  <script>\n",
              "    async function quickchart(key) {\n",
              "      const quickchartButtonEl =\n",
              "        document.querySelector('#' + key + ' button');\n",
              "      quickchartButtonEl.disabled = true;  // To prevent multiple clicks.\n",
              "      quickchartButtonEl.classList.add('colab-df-spinner');\n",
              "      try {\n",
              "        const charts = await google.colab.kernel.invokeFunction(\n",
              "            'suggestCharts', [key], {});\n",
              "      } catch (error) {\n",
              "        console.error('Error during call to suggestCharts:', error);\n",
              "      }\n",
              "      quickchartButtonEl.classList.remove('colab-df-spinner');\n",
              "      quickchartButtonEl.classList.add('colab-df-quickchart-complete');\n",
              "    }\n",
              "    (() => {\n",
              "      let quickchartButtonEl =\n",
              "        document.querySelector('#df-8cab7430-d776-4bdd-a791-6b9b7cb4ab3d button');\n",
              "      quickchartButtonEl.style.display =\n",
              "        google.colab.kernel.accessAllowed ? 'block' : 'none';\n",
              "    })();\n",
              "  </script>\n",
              "</div>\n",
              "    </div>\n",
              "  </div>\n"
            ]
          },
          "metadata": {},
          "execution_count": 271
        }
      ]
    }
  ]
}